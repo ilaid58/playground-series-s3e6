{
 "cells": [
  {
   "cell_type": "markdown",
   "id": "1a60fde2",
   "metadata": {},
   "source": [
    "# outline\n",
    "- [1 output information about data](#1)\n",
    "\n",
    "- [2 - clean the data and analyse data](#2)\n",
    "  - [2.1 scale the feature(s)](#2.1)\n",
    "  - [1.2 analyse data with cluster](#2.2)\n",
    "  \n",
    "- [3 - Find features that have good correlation](#3)\n",
    "  - [3.1 check out the p value and coef](#3.1)\n",
    "  - [3.2 take the features that have not a weak relationship](#3.2)\n",
    "  \n",
    "- [4 split the data into train, valid and test set](#4)\n",
    "  \n",
    "- [5 - build a model](#5)\n",
    "  - [5.1 polynomial features](#5.1) \n",
    "    - [5.1.1 analyse models](#5.1.1)\n",
    "  - [5.2 decision tree regressor](#5.2)\n",
    "- [6 - Take a decision about what model](#6)\n",
    "- [7 - import test set and make final prediction](#7)\n",
    "  - [7.1 scale the test dataset](#7.1)"
   ]
  },
  {
   "cell_type": "code",
   "execution_count": 1,
   "id": "114e70a5",
   "metadata": {},
   "outputs": [],
   "source": [
    "import pandas as pd\n",
    "import numpy as np\n",
    "from scipy import stats\n",
    "import matplotlib.pyplot as plt\n",
    "from sklearn.model_selection import KFold\n",
    "from sklearn.linear_model import LinearRegression, Ridge\n",
    "from sklearn.preprocessing import PolynomialFeatures\n",
    "from sklearn.metrics import mean_squared_error as mse\n",
    "from sklearn.model_selection import KFold, train_test_split\n",
    "from sklearn.tree import DecisionTreeRegressor\n",
    "from sklearn.ensemble import RandomForestRegressor\n",
    "from sklearn.cluster import KMeans"
   ]
  },
  {
   "cell_type": "code",
   "execution_count": 2,
   "id": "867c30a2",
   "metadata": {},
   "outputs": [],
   "source": [
    "df = pd.read_csv('train.csv')"
   ]
  },
  {
   "cell_type": "markdown",
   "id": "59fce748",
   "metadata": {},
   "source": [
    "<a name=1></a>\n",
    "# 1- Output information about data"
   ]
  },
  {
   "cell_type": "code",
   "execution_count": 3,
   "id": "5fa1a015",
   "metadata": {},
   "outputs": [
    {
     "data": {
      "text/html": [
       "<div>\n",
       "<style scoped>\n",
       "    .dataframe tbody tr th:only-of-type {\n",
       "        vertical-align: middle;\n",
       "    }\n",
       "\n",
       "    .dataframe tbody tr th {\n",
       "        vertical-align: top;\n",
       "    }\n",
       "\n",
       "    .dataframe thead th {\n",
       "        text-align: right;\n",
       "    }\n",
       "</style>\n",
       "<table border=\"1\" class=\"dataframe\">\n",
       "  <thead>\n",
       "    <tr style=\"text-align: right;\">\n",
       "      <th></th>\n",
       "      <th>id</th>\n",
       "      <th>squareMeters</th>\n",
       "      <th>numberOfRooms</th>\n",
       "      <th>hasYard</th>\n",
       "      <th>hasPool</th>\n",
       "      <th>floors</th>\n",
       "      <th>cityCode</th>\n",
       "      <th>cityPartRange</th>\n",
       "      <th>numPrevOwners</th>\n",
       "      <th>made</th>\n",
       "      <th>isNewBuilt</th>\n",
       "      <th>hasStormProtector</th>\n",
       "      <th>basement</th>\n",
       "      <th>attic</th>\n",
       "      <th>garage</th>\n",
       "      <th>hasStorageRoom</th>\n",
       "      <th>hasGuestRoom</th>\n",
       "      <th>price</th>\n",
       "    </tr>\n",
       "  </thead>\n",
       "  <tbody>\n",
       "    <tr>\n",
       "      <th>0</th>\n",
       "      <td>0</td>\n",
       "      <td>34291</td>\n",
       "      <td>24</td>\n",
       "      <td>1</td>\n",
       "      <td>0</td>\n",
       "      <td>47</td>\n",
       "      <td>35693</td>\n",
       "      <td>2</td>\n",
       "      <td>1</td>\n",
       "      <td>2000</td>\n",
       "      <td>0</td>\n",
       "      <td>1</td>\n",
       "      <td>8</td>\n",
       "      <td>5196</td>\n",
       "      <td>369</td>\n",
       "      <td>0</td>\n",
       "      <td>3</td>\n",
       "      <td>3436795.2</td>\n",
       "    </tr>\n",
       "    <tr>\n",
       "      <th>1</th>\n",
       "      <td>1</td>\n",
       "      <td>95145</td>\n",
       "      <td>60</td>\n",
       "      <td>0</td>\n",
       "      <td>1</td>\n",
       "      <td>60</td>\n",
       "      <td>34773</td>\n",
       "      <td>1</td>\n",
       "      <td>4</td>\n",
       "      <td>2000</td>\n",
       "      <td>0</td>\n",
       "      <td>1</td>\n",
       "      <td>729</td>\n",
       "      <td>4496</td>\n",
       "      <td>277</td>\n",
       "      <td>0</td>\n",
       "      <td>6</td>\n",
       "      <td>9519958.0</td>\n",
       "    </tr>\n",
       "    <tr>\n",
       "      <th>2</th>\n",
       "      <td>2</td>\n",
       "      <td>92661</td>\n",
       "      <td>45</td>\n",
       "      <td>1</td>\n",
       "      <td>1</td>\n",
       "      <td>62</td>\n",
       "      <td>45457</td>\n",
       "      <td>4</td>\n",
       "      <td>8</td>\n",
       "      <td>2020</td>\n",
       "      <td>1</td>\n",
       "      <td>1</td>\n",
       "      <td>7473</td>\n",
       "      <td>8953</td>\n",
       "      <td>245</td>\n",
       "      <td>1</td>\n",
       "      <td>9</td>\n",
       "      <td>9276448.1</td>\n",
       "    </tr>\n",
       "    <tr>\n",
       "      <th>3</th>\n",
       "      <td>3</td>\n",
       "      <td>97184</td>\n",
       "      <td>99</td>\n",
       "      <td>0</td>\n",
       "      <td>0</td>\n",
       "      <td>59</td>\n",
       "      <td>15113</td>\n",
       "      <td>1</td>\n",
       "      <td>1</td>\n",
       "      <td>2000</td>\n",
       "      <td>0</td>\n",
       "      <td>1</td>\n",
       "      <td>6424</td>\n",
       "      <td>8522</td>\n",
       "      <td>256</td>\n",
       "      <td>1</td>\n",
       "      <td>9</td>\n",
       "      <td>9725732.2</td>\n",
       "    </tr>\n",
       "    <tr>\n",
       "      <th>4</th>\n",
       "      <td>4</td>\n",
       "      <td>61752</td>\n",
       "      <td>100</td>\n",
       "      <td>0</td>\n",
       "      <td>0</td>\n",
       "      <td>57</td>\n",
       "      <td>64245</td>\n",
       "      <td>8</td>\n",
       "      <td>4</td>\n",
       "      <td>2018</td>\n",
       "      <td>1</td>\n",
       "      <td>0</td>\n",
       "      <td>7151</td>\n",
       "      <td>2786</td>\n",
       "      <td>863</td>\n",
       "      <td>0</td>\n",
       "      <td>7</td>\n",
       "      <td>6181908.8</td>\n",
       "    </tr>\n",
       "    <tr>\n",
       "      <th>...</th>\n",
       "      <td>...</td>\n",
       "      <td>...</td>\n",
       "      <td>...</td>\n",
       "      <td>...</td>\n",
       "      <td>...</td>\n",
       "      <td>...</td>\n",
       "      <td>...</td>\n",
       "      <td>...</td>\n",
       "      <td>...</td>\n",
       "      <td>...</td>\n",
       "      <td>...</td>\n",
       "      <td>...</td>\n",
       "      <td>...</td>\n",
       "      <td>...</td>\n",
       "      <td>...</td>\n",
       "      <td>...</td>\n",
       "      <td>...</td>\n",
       "      <td>...</td>\n",
       "    </tr>\n",
       "    <tr>\n",
       "      <th>22725</th>\n",
       "      <td>22725</td>\n",
       "      <td>55825</td>\n",
       "      <td>84</td>\n",
       "      <td>1</td>\n",
       "      <td>0</td>\n",
       "      <td>70</td>\n",
       "      <td>12031</td>\n",
       "      <td>3</td>\n",
       "      <td>10</td>\n",
       "      <td>2000</td>\n",
       "      <td>0</td>\n",
       "      <td>0</td>\n",
       "      <td>4477</td>\n",
       "      <td>786</td>\n",
       "      <td>345</td>\n",
       "      <td>0</td>\n",
       "      <td>0</td>\n",
       "      <td>5594137.1</td>\n",
       "    </tr>\n",
       "    <tr>\n",
       "      <th>22726</th>\n",
       "      <td>22726</td>\n",
       "      <td>65870</td>\n",
       "      <td>88</td>\n",
       "      <td>1</td>\n",
       "      <td>0</td>\n",
       "      <td>49</td>\n",
       "      <td>23197</td>\n",
       "      <td>9</td>\n",
       "      <td>9</td>\n",
       "      <td>2015</td>\n",
       "      <td>0</td>\n",
       "      <td>1</td>\n",
       "      <td>4811</td>\n",
       "      <td>2454</td>\n",
       "      <td>755</td>\n",
       "      <td>0</td>\n",
       "      <td>7</td>\n",
       "      <td>6594705.0</td>\n",
       "    </tr>\n",
       "    <tr>\n",
       "      <th>22727</th>\n",
       "      <td>22727</td>\n",
       "      <td>93192</td>\n",
       "      <td>42</td>\n",
       "      <td>1</td>\n",
       "      <td>0</td>\n",
       "      <td>39</td>\n",
       "      <td>8539</td>\n",
       "      <td>10</td>\n",
       "      <td>5</td>\n",
       "      <td>2014</td>\n",
       "      <td>1</td>\n",
       "      <td>0</td>\n",
       "      <td>5595</td>\n",
       "      <td>4072</td>\n",
       "      <td>789</td>\n",
       "      <td>0</td>\n",
       "      <td>0</td>\n",
       "      <td>9321511.4</td>\n",
       "    </tr>\n",
       "    <tr>\n",
       "      <th>22728</th>\n",
       "      <td>22728</td>\n",
       "      <td>65797</td>\n",
       "      <td>86</td>\n",
       "      <td>1</td>\n",
       "      <td>0</td>\n",
       "      <td>89</td>\n",
       "      <td>23197</td>\n",
       "      <td>2</td>\n",
       "      <td>10</td>\n",
       "      <td>2000</td>\n",
       "      <td>1</td>\n",
       "      <td>0</td>\n",
       "      <td>5358</td>\n",
       "      <td>2513</td>\n",
       "      <td>411</td>\n",
       "      <td>0</td>\n",
       "      <td>0</td>\n",
       "      <td>6584708.2</td>\n",
       "    </tr>\n",
       "    <tr>\n",
       "      <th>22729</th>\n",
       "      <td>22729</td>\n",
       "      <td>82244</td>\n",
       "      <td>18</td>\n",
       "      <td>1</td>\n",
       "      <td>0</td>\n",
       "      <td>38</td>\n",
       "      <td>86728</td>\n",
       "      <td>1</td>\n",
       "      <td>9</td>\n",
       "      <td>2018</td>\n",
       "      <td>1</td>\n",
       "      <td>0</td>\n",
       "      <td>6294</td>\n",
       "      <td>1291</td>\n",
       "      <td>572</td>\n",
       "      <td>0</td>\n",
       "      <td>6</td>\n",
       "      <td>8231424.8</td>\n",
       "    </tr>\n",
       "  </tbody>\n",
       "</table>\n",
       "<p>22730 rows × 18 columns</p>\n",
       "</div>"
      ],
      "text/plain": [
       "          id  squareMeters  numberOfRooms  hasYard  hasPool  floors  cityCode  \\\n",
       "0          0         34291             24        1        0      47     35693   \n",
       "1          1         95145             60        0        1      60     34773   \n",
       "2          2         92661             45        1        1      62     45457   \n",
       "3          3         97184             99        0        0      59     15113   \n",
       "4          4         61752            100        0        0      57     64245   \n",
       "...      ...           ...            ...      ...      ...     ...       ...   \n",
       "22725  22725         55825             84        1        0      70     12031   \n",
       "22726  22726         65870             88        1        0      49     23197   \n",
       "22727  22727         93192             42        1        0      39      8539   \n",
       "22728  22728         65797             86        1        0      89     23197   \n",
       "22729  22729         82244             18        1        0      38     86728   \n",
       "\n",
       "       cityPartRange  numPrevOwners  made  isNewBuilt  hasStormProtector  \\\n",
       "0                  2              1  2000           0                  1   \n",
       "1                  1              4  2000           0                  1   \n",
       "2                  4              8  2020           1                  1   \n",
       "3                  1              1  2000           0                  1   \n",
       "4                  8              4  2018           1                  0   \n",
       "...              ...            ...   ...         ...                ...   \n",
       "22725              3             10  2000           0                  0   \n",
       "22726              9              9  2015           0                  1   \n",
       "22727             10              5  2014           1                  0   \n",
       "22728              2             10  2000           1                  0   \n",
       "22729              1              9  2018           1                  0   \n",
       "\n",
       "       basement  attic  garage  hasStorageRoom  hasGuestRoom      price  \n",
       "0             8   5196     369               0             3  3436795.2  \n",
       "1           729   4496     277               0             6  9519958.0  \n",
       "2          7473   8953     245               1             9  9276448.1  \n",
       "3          6424   8522     256               1             9  9725732.2  \n",
       "4          7151   2786     863               0             7  6181908.8  \n",
       "...         ...    ...     ...             ...           ...        ...  \n",
       "22725      4477    786     345               0             0  5594137.1  \n",
       "22726      4811   2454     755               0             7  6594705.0  \n",
       "22727      5595   4072     789               0             0  9321511.4  \n",
       "22728      5358   2513     411               0             0  6584708.2  \n",
       "22729      6294   1291     572               0             6  8231424.8  \n",
       "\n",
       "[22730 rows x 18 columns]"
      ]
     },
     "execution_count": 3,
     "metadata": {},
     "output_type": "execute_result"
    }
   ],
   "source": [
    "df"
   ]
  },
  {
   "cell_type": "code",
   "execution_count": 4,
   "id": "a8179ce5",
   "metadata": {},
   "outputs": [
    {
     "name": "stdout",
     "output_type": "stream",
     "text": [
      "                 id  squareMeters  numberOfRooms       hasYard       hasPool  \\\n",
      "count  22730.000000  2.273000e+04   22730.000000  22730.000000  22730.000000   \n",
      "mean   11364.500000  4.658622e+04      48.241091      0.475891      0.452750   \n",
      "std     6561.730145  4.952124e+04      28.226428      0.499429      0.497773   \n",
      "min        0.000000  8.900000e+01       1.000000      0.000000      0.000000   \n",
      "25%     5682.250000  2.039275e+04      25.000000      0.000000      0.000000   \n",
      "50%    11364.500000  4.448400e+04      47.000000      0.000000      0.000000   \n",
      "75%    17046.750000  7.154700e+04      75.000000      1.000000      1.000000   \n",
      "max    22729.000000  6.071330e+06     100.000000      1.000000      1.000000   \n",
      "\n",
      "             floors       cityCode  cityPartRange  numPrevOwners  \\\n",
      "count  22730.000000   22730.000000   22730.000000   22730.000000   \n",
      "mean      47.305983   50013.795996       5.585042       5.620766   \n",
      "std       47.777207   30006.637729       2.739533       2.713026   \n",
      "min        1.000000       3.000000       1.000000       1.000000   \n",
      "25%       25.000000   22936.000000       3.000000       3.000000   \n",
      "50%       45.000000   50414.000000       6.000000       6.000000   \n",
      "75%       69.000000   76291.000000       8.000000       8.000000   \n",
      "max     6000.000000  491100.000000      10.000000      10.000000   \n",
      "\n",
      "               made    isNewBuilt  hasStormProtector      basement  \\\n",
      "count  22730.000000  22730.000000       22730.000000  22730.000000   \n",
      "mean    2008.005059      0.467972           0.460009   5283.646634   \n",
      "std      118.826777      0.498984           0.498409   3047.084412   \n",
      "min     1990.000000      0.000000           0.000000      4.000000   \n",
      "25%     2000.000000      0.000000           0.000000   2977.250000   \n",
      "50%     2006.000000      0.000000           0.000000   5359.000000   \n",
      "75%     2014.000000      1.000000           1.000000   7746.000000   \n",
      "max    10000.000000      1.000000           1.000000  91992.000000   \n",
      "\n",
      "              attic        garage  hasStorageRoom  hasGuestRoom         price  \n",
      "count  22730.000000  22730.000000    22730.000000  22730.000000  2.273000e+04  \n",
      "mean    5067.981698    530.469644        0.461681      5.153058  4.634457e+06  \n",
      "std     3097.347939    274.840604        0.498540      3.055246  2.925163e+06  \n",
      "min        1.000000      4.000000        0.000000      0.000000  1.031350e+04  \n",
      "25%     2599.000000    297.000000        0.000000      3.000000  2.041739e+06  \n",
      "50%     4977.000000    515.000000        0.000000      5.000000  4.450823e+06  \n",
      "75%     7652.000000    767.000000        1.000000      8.000000  7.159920e+06  \n",
      "max    96381.000000   9017.000000        1.000000     10.000000  1.000428e+07   \n",
      "\n",
      "\n",
      "\n",
      "                         id  squareMeters  numberOfRooms   hasYard   hasPool  \\\n",
      "id                 1.000000     -0.001377       0.003697 -0.013849 -0.011452   \n",
      "squareMeters      -0.001377      1.000000       0.056755 -0.006512 -0.001615   \n",
      "numberOfRooms      0.003697      0.056755       1.000000 -0.000989  0.000197   \n",
      "hasYard           -0.013849     -0.006512      -0.000989  1.000000 -0.068559   \n",
      "hasPool           -0.011452     -0.001615       0.000197 -0.068559  1.000000   \n",
      "floors            -0.011556      0.017832       0.044159 -0.010663 -0.000490   \n",
      "cityCode           0.007562      0.019843      -0.008527  0.002786  0.008218   \n",
      "cityPartRange      0.012823      0.002738       0.012343 -0.002071 -0.002603   \n",
      "numPrevOwners     -0.000870     -0.000150       0.021984 -0.002494  0.000512   \n",
      "made               0.004804      0.014827       0.004819 -0.008165 -0.007610   \n",
      "isNewBuilt         0.004701      0.010350      -0.008951  0.001580  0.032965   \n",
      "hasStormProtector  0.000605      0.017886       0.011712  0.005141  0.014905   \n",
      "basement           0.001734     -0.018948       0.023536 -0.011966  0.003251   \n",
      "attic              0.001661     -0.008333       0.027370 -0.003421 -0.001070   \n",
      "garage             0.010885     -0.063946       0.066873 -0.001047  0.007199   \n",
      "hasStorageRoom     0.011835      0.006013      -0.007623  0.006715  0.016283   \n",
      "hasGuestRoom       0.001892     -0.005814      -0.015969 -0.007774 -0.006831   \n",
      "price             -0.008060      0.591749       0.091681 -0.002545  0.006023   \n",
      "\n",
      "                     floors  cityCode  cityPartRange  numPrevOwners      made  \\\n",
      "id                -0.011556  0.007562       0.012823      -0.000870  0.004804   \n",
      "squareMeters       0.017832  0.019843       0.002738      -0.000150  0.014827   \n",
      "numberOfRooms      0.044159 -0.008527       0.012343       0.021984  0.004819   \n",
      "hasYard           -0.010663  0.002786      -0.002071      -0.002494 -0.008165   \n",
      "hasPool           -0.000490  0.008218      -0.002603       0.000512 -0.007610   \n",
      "floors             1.000000  0.005899       0.000913       0.009200  0.004584   \n",
      "cityCode           0.005899  1.000000       0.009425      -0.003807  0.008044   \n",
      "cityPartRange      0.000913  0.009425       1.000000       0.021518  0.005075   \n",
      "numPrevOwners      0.009200 -0.003807       0.021518       1.000000  0.002074   \n",
      "made               0.004584  0.008044       0.005075       0.002074  1.000000   \n",
      "isNewBuilt        -0.005746 -0.000551       0.002154      -0.001010 -0.002023   \n",
      "hasStormProtector -0.002473 -0.003309      -0.000393      -0.013071 -0.001982   \n",
      "basement           0.007887  0.000686       0.000288      -0.005544  0.004274   \n",
      "attic             -0.006231  0.017507       0.010329       0.001098  0.010601   \n",
      "garage             0.023794  0.007452      -0.001874      -0.004935 -0.006403   \n",
      "hasStorageRoom    -0.007920  0.006606       0.003465       0.001031 -0.008561   \n",
      "hasGuestRoom      -0.020811  0.002911       0.018328       0.013139 -0.009767   \n",
      "price              0.038374  0.021986      -0.009366      -0.008546  0.024270   \n",
      "\n",
      "                   isNewBuilt  hasStormProtector  basement     attic  \\\n",
      "id                   0.004701           0.000605  0.001734  0.001661   \n",
      "squareMeters         0.010350           0.017886 -0.018948 -0.008333   \n",
      "numberOfRooms       -0.008951           0.011712  0.023536  0.027370   \n",
      "hasYard              0.001580           0.005141 -0.011966 -0.003421   \n",
      "hasPool              0.032965           0.014905  0.003251 -0.001070   \n",
      "floors              -0.005746          -0.002473  0.007887 -0.006231   \n",
      "cityCode            -0.000551          -0.003309  0.000686  0.017507   \n",
      "cityPartRange        0.002154          -0.000393  0.000288  0.010329   \n",
      "numPrevOwners       -0.001010          -0.013071 -0.005544  0.001098   \n",
      "made                -0.002023          -0.001982  0.004274  0.010601   \n",
      "isNewBuilt           1.000000           0.024039 -0.001705 -0.000033   \n",
      "hasStormProtector    0.024039           1.000000 -0.017704 -0.001401   \n",
      "basement            -0.001705          -0.017704  1.000000  0.015399   \n",
      "attic               -0.000033          -0.001401  0.015399  1.000000   \n",
      "garage               0.010843           0.020655 -0.017898 -0.027088   \n",
      "hasStorageRoom       0.027609           0.017471 -0.016617 -0.002330   \n",
      "hasGuestRoom         0.010474          -0.001715  0.010897  0.012462   \n",
      "price                0.008080           0.020512 -0.034940 -0.006851   \n",
      "\n",
      "                     garage  hasStorageRoom  hasGuestRoom     price  \n",
      "id                 0.010885        0.011835      0.001892 -0.008060  \n",
      "squareMeters      -0.063946        0.006013     -0.005814  0.591749  \n",
      "numberOfRooms      0.066873       -0.007623     -0.015969  0.091681  \n",
      "hasYard           -0.001047        0.006715     -0.007774 -0.002545  \n",
      "hasPool            0.007199        0.016283     -0.006831  0.006023  \n",
      "floors             0.023794       -0.007920     -0.020811  0.038374  \n",
      "cityCode           0.007452        0.006606      0.002911  0.021986  \n",
      "cityPartRange     -0.001874        0.003465      0.018328 -0.009366  \n",
      "numPrevOwners     -0.004935        0.001031      0.013139 -0.008546  \n",
      "made              -0.006403       -0.008561     -0.009767  0.024270  \n",
      "isNewBuilt         0.010843        0.027609      0.010474  0.008080  \n",
      "hasStormProtector  0.020655        0.017471     -0.001715  0.020512  \n",
      "basement          -0.017898       -0.016617      0.010897 -0.034940  \n",
      "attic             -0.027088       -0.002330      0.012462 -0.006851  \n",
      "garage             1.000000        0.034678      0.003986 -0.120137  \n",
      "hasStorageRoom     0.034678        1.000000      0.009411  0.001567  \n",
      "hasGuestRoom       0.003986        0.009411      1.000000 -0.009309  \n",
      "price             -0.120137        0.001567     -0.009309  1.000000  \n"
     ]
    }
   ],
   "source": [
    "print(df.describe(),'\\n\\n\\n')\n",
    "print(df.corr())"
   ]
  },
  {
   "cell_type": "code",
   "execution_count": 5,
   "id": "c2eb2201",
   "metadata": {},
   "outputs": [],
   "source": [
    "# define the columns as features instead 'id' and 'price'\n",
    "features = [i for i in df.columns if i not in ['id', 'price']]\n",
    "target = 'price'"
   ]
  },
  {
   "cell_type": "markdown",
   "id": "ef98c1a6",
   "metadata": {},
   "source": [
    "<a name=2></a>\n",
    "# 2- Clean the data and analyse data\n",
    "\n",
    "<a name=2.1></a>\n",
    "## 2.1) <u>scale the feature(s)</u>\n",
    "\n",
    "we find that the `price` have high values"
   ]
  },
  {
   "cell_type": "code",
   "execution_count": 6,
   "id": "fffa6be7",
   "metadata": {},
   "outputs": [
    {
     "name": "stdout",
     "output_type": "stream",
     "text": [
      "{'squareMeters': 6071330, 'numberOfRooms': 100, 'hasYard': 1, 'hasPool': 1, 'floors': 6000, 'cityCode': 491100, 'cityPartRange': 10, 'numPrevOwners': 10, 'made': 10000, 'isNewBuilt': 1, 'hasStormProtector': 1, 'basement': 91992, 'attic': 96381, 'garage': 9017, 'hasStorageRoom': 1, 'hasGuestRoom': 10}\n",
      "{'squareMeters': 6071330, 'floors': 6000, 'cityCode': 491100, 'made': 10000, 'basement': 91992, 'attic': 96381, 'garage': 9017}\n"
     ]
    }
   ],
   "source": [
    "great_than10e3 = {}\n",
    "dict_max = {}\n",
    "for i in features:\n",
    "    dict_max[i] = df[i].max()\n",
    "    if df[i].max() >= 1000:\n",
    "        great_than10e3[i] = df[i].max()\n",
    "print(dict_max)\n",
    "print(great_than10e3)"
   ]
  },
  {
   "cell_type": "code",
   "execution_count": 7,
   "id": "1fad2b84",
   "metadata": {},
   "outputs": [],
   "source": [
    "class to_scale:\n",
    "    def __init__(self, data):\n",
    "        self.data = data\n",
    "        \n",
    "    def features(self, dict_col):\n",
    "        for i in list(dict_col.keys()):\n",
    "            self.data[i] = self.data[i] * 10**(-3)\n",
    "            \n",
    "        return self.data\n",
    "    \n",
    "    def target(self, target):\n",
    "        self.data[target] = self.data[target] * 10**(-4)\n",
    "        \n",
    "        return self.data"
   ]
  },
  {
   "cell_type": "code",
   "execution_count": 8,
   "id": "d740051f",
   "metadata": {
    "scrolled": true
   },
   "outputs": [],
   "source": [
    "df_scale = df.copy()\n",
    "scaler = to_scale(df_scale)\n",
    "df_scale = scaler.features(great_than10e3)\n",
    "df_scale = scaler.target('price')"
   ]
  },
  {
   "cell_type": "code",
   "execution_count": 9,
   "id": "a7833df0",
   "metadata": {},
   "outputs": [
    {
     "data": {
      "text/html": [
       "<div>\n",
       "<style scoped>\n",
       "    .dataframe tbody tr th:only-of-type {\n",
       "        vertical-align: middle;\n",
       "    }\n",
       "\n",
       "    .dataframe tbody tr th {\n",
       "        vertical-align: top;\n",
       "    }\n",
       "\n",
       "    .dataframe thead th {\n",
       "        text-align: right;\n",
       "    }\n",
       "</style>\n",
       "<table border=\"1\" class=\"dataframe\">\n",
       "  <thead>\n",
       "    <tr style=\"text-align: right;\">\n",
       "      <th></th>\n",
       "      <th>id</th>\n",
       "      <th>squareMeters</th>\n",
       "      <th>numberOfRooms</th>\n",
       "      <th>hasYard</th>\n",
       "      <th>hasPool</th>\n",
       "      <th>floors</th>\n",
       "      <th>cityCode</th>\n",
       "      <th>cityPartRange</th>\n",
       "      <th>numPrevOwners</th>\n",
       "      <th>made</th>\n",
       "      <th>isNewBuilt</th>\n",
       "      <th>hasStormProtector</th>\n",
       "      <th>basement</th>\n",
       "      <th>attic</th>\n",
       "      <th>garage</th>\n",
       "      <th>hasStorageRoom</th>\n",
       "      <th>hasGuestRoom</th>\n",
       "      <th>price</th>\n",
       "    </tr>\n",
       "  </thead>\n",
       "  <tbody>\n",
       "    <tr>\n",
       "      <th>0</th>\n",
       "      <td>0</td>\n",
       "      <td>34.291</td>\n",
       "      <td>24</td>\n",
       "      <td>1</td>\n",
       "      <td>0</td>\n",
       "      <td>0.047</td>\n",
       "      <td>35.693</td>\n",
       "      <td>2</td>\n",
       "      <td>1</td>\n",
       "      <td>2.000</td>\n",
       "      <td>0</td>\n",
       "      <td>1</td>\n",
       "      <td>0.008</td>\n",
       "      <td>5.196</td>\n",
       "      <td>0.369</td>\n",
       "      <td>0</td>\n",
       "      <td>3</td>\n",
       "      <td>343.67952</td>\n",
       "    </tr>\n",
       "    <tr>\n",
       "      <th>1</th>\n",
       "      <td>1</td>\n",
       "      <td>95.145</td>\n",
       "      <td>60</td>\n",
       "      <td>0</td>\n",
       "      <td>1</td>\n",
       "      <td>0.060</td>\n",
       "      <td>34.773</td>\n",
       "      <td>1</td>\n",
       "      <td>4</td>\n",
       "      <td>2.000</td>\n",
       "      <td>0</td>\n",
       "      <td>1</td>\n",
       "      <td>0.729</td>\n",
       "      <td>4.496</td>\n",
       "      <td>0.277</td>\n",
       "      <td>0</td>\n",
       "      <td>6</td>\n",
       "      <td>951.99580</td>\n",
       "    </tr>\n",
       "    <tr>\n",
       "      <th>2</th>\n",
       "      <td>2</td>\n",
       "      <td>92.661</td>\n",
       "      <td>45</td>\n",
       "      <td>1</td>\n",
       "      <td>1</td>\n",
       "      <td>0.062</td>\n",
       "      <td>45.457</td>\n",
       "      <td>4</td>\n",
       "      <td>8</td>\n",
       "      <td>2.020</td>\n",
       "      <td>1</td>\n",
       "      <td>1</td>\n",
       "      <td>7.473</td>\n",
       "      <td>8.953</td>\n",
       "      <td>0.245</td>\n",
       "      <td>1</td>\n",
       "      <td>9</td>\n",
       "      <td>927.64481</td>\n",
       "    </tr>\n",
       "    <tr>\n",
       "      <th>3</th>\n",
       "      <td>3</td>\n",
       "      <td>97.184</td>\n",
       "      <td>99</td>\n",
       "      <td>0</td>\n",
       "      <td>0</td>\n",
       "      <td>0.059</td>\n",
       "      <td>15.113</td>\n",
       "      <td>1</td>\n",
       "      <td>1</td>\n",
       "      <td>2.000</td>\n",
       "      <td>0</td>\n",
       "      <td>1</td>\n",
       "      <td>6.424</td>\n",
       "      <td>8.522</td>\n",
       "      <td>0.256</td>\n",
       "      <td>1</td>\n",
       "      <td>9</td>\n",
       "      <td>972.57322</td>\n",
       "    </tr>\n",
       "    <tr>\n",
       "      <th>4</th>\n",
       "      <td>4</td>\n",
       "      <td>61.752</td>\n",
       "      <td>100</td>\n",
       "      <td>0</td>\n",
       "      <td>0</td>\n",
       "      <td>0.057</td>\n",
       "      <td>64.245</td>\n",
       "      <td>8</td>\n",
       "      <td>4</td>\n",
       "      <td>2.018</td>\n",
       "      <td>1</td>\n",
       "      <td>0</td>\n",
       "      <td>7.151</td>\n",
       "      <td>2.786</td>\n",
       "      <td>0.863</td>\n",
       "      <td>0</td>\n",
       "      <td>7</td>\n",
       "      <td>618.19088</td>\n",
       "    </tr>\n",
       "    <tr>\n",
       "      <th>...</th>\n",
       "      <td>...</td>\n",
       "      <td>...</td>\n",
       "      <td>...</td>\n",
       "      <td>...</td>\n",
       "      <td>...</td>\n",
       "      <td>...</td>\n",
       "      <td>...</td>\n",
       "      <td>...</td>\n",
       "      <td>...</td>\n",
       "      <td>...</td>\n",
       "      <td>...</td>\n",
       "      <td>...</td>\n",
       "      <td>...</td>\n",
       "      <td>...</td>\n",
       "      <td>...</td>\n",
       "      <td>...</td>\n",
       "      <td>...</td>\n",
       "      <td>...</td>\n",
       "    </tr>\n",
       "    <tr>\n",
       "      <th>22725</th>\n",
       "      <td>22725</td>\n",
       "      <td>55.825</td>\n",
       "      <td>84</td>\n",
       "      <td>1</td>\n",
       "      <td>0</td>\n",
       "      <td>0.070</td>\n",
       "      <td>12.031</td>\n",
       "      <td>3</td>\n",
       "      <td>10</td>\n",
       "      <td>2.000</td>\n",
       "      <td>0</td>\n",
       "      <td>0</td>\n",
       "      <td>4.477</td>\n",
       "      <td>0.786</td>\n",
       "      <td>0.345</td>\n",
       "      <td>0</td>\n",
       "      <td>0</td>\n",
       "      <td>559.41371</td>\n",
       "    </tr>\n",
       "    <tr>\n",
       "      <th>22726</th>\n",
       "      <td>22726</td>\n",
       "      <td>65.870</td>\n",
       "      <td>88</td>\n",
       "      <td>1</td>\n",
       "      <td>0</td>\n",
       "      <td>0.049</td>\n",
       "      <td>23.197</td>\n",
       "      <td>9</td>\n",
       "      <td>9</td>\n",
       "      <td>2.015</td>\n",
       "      <td>0</td>\n",
       "      <td>1</td>\n",
       "      <td>4.811</td>\n",
       "      <td>2.454</td>\n",
       "      <td>0.755</td>\n",
       "      <td>0</td>\n",
       "      <td>7</td>\n",
       "      <td>659.47050</td>\n",
       "    </tr>\n",
       "    <tr>\n",
       "      <th>22727</th>\n",
       "      <td>22727</td>\n",
       "      <td>93.192</td>\n",
       "      <td>42</td>\n",
       "      <td>1</td>\n",
       "      <td>0</td>\n",
       "      <td>0.039</td>\n",
       "      <td>8.539</td>\n",
       "      <td>10</td>\n",
       "      <td>5</td>\n",
       "      <td>2.014</td>\n",
       "      <td>1</td>\n",
       "      <td>0</td>\n",
       "      <td>5.595</td>\n",
       "      <td>4.072</td>\n",
       "      <td>0.789</td>\n",
       "      <td>0</td>\n",
       "      <td>0</td>\n",
       "      <td>932.15114</td>\n",
       "    </tr>\n",
       "    <tr>\n",
       "      <th>22728</th>\n",
       "      <td>22728</td>\n",
       "      <td>65.797</td>\n",
       "      <td>86</td>\n",
       "      <td>1</td>\n",
       "      <td>0</td>\n",
       "      <td>0.089</td>\n",
       "      <td>23.197</td>\n",
       "      <td>2</td>\n",
       "      <td>10</td>\n",
       "      <td>2.000</td>\n",
       "      <td>1</td>\n",
       "      <td>0</td>\n",
       "      <td>5.358</td>\n",
       "      <td>2.513</td>\n",
       "      <td>0.411</td>\n",
       "      <td>0</td>\n",
       "      <td>0</td>\n",
       "      <td>658.47082</td>\n",
       "    </tr>\n",
       "    <tr>\n",
       "      <th>22729</th>\n",
       "      <td>22729</td>\n",
       "      <td>82.244</td>\n",
       "      <td>18</td>\n",
       "      <td>1</td>\n",
       "      <td>0</td>\n",
       "      <td>0.038</td>\n",
       "      <td>86.728</td>\n",
       "      <td>1</td>\n",
       "      <td>9</td>\n",
       "      <td>2.018</td>\n",
       "      <td>1</td>\n",
       "      <td>0</td>\n",
       "      <td>6.294</td>\n",
       "      <td>1.291</td>\n",
       "      <td>0.572</td>\n",
       "      <td>0</td>\n",
       "      <td>6</td>\n",
       "      <td>823.14248</td>\n",
       "    </tr>\n",
       "  </tbody>\n",
       "</table>\n",
       "<p>22730 rows × 18 columns</p>\n",
       "</div>"
      ],
      "text/plain": [
       "          id  squareMeters  numberOfRooms  hasYard  hasPool  floors  cityCode  \\\n",
       "0          0        34.291             24        1        0   0.047    35.693   \n",
       "1          1        95.145             60        0        1   0.060    34.773   \n",
       "2          2        92.661             45        1        1   0.062    45.457   \n",
       "3          3        97.184             99        0        0   0.059    15.113   \n",
       "4          4        61.752            100        0        0   0.057    64.245   \n",
       "...      ...           ...            ...      ...      ...     ...       ...   \n",
       "22725  22725        55.825             84        1        0   0.070    12.031   \n",
       "22726  22726        65.870             88        1        0   0.049    23.197   \n",
       "22727  22727        93.192             42        1        0   0.039     8.539   \n",
       "22728  22728        65.797             86        1        0   0.089    23.197   \n",
       "22729  22729        82.244             18        1        0   0.038    86.728   \n",
       "\n",
       "       cityPartRange  numPrevOwners   made  isNewBuilt  hasStormProtector  \\\n",
       "0                  2              1  2.000           0                  1   \n",
       "1                  1              4  2.000           0                  1   \n",
       "2                  4              8  2.020           1                  1   \n",
       "3                  1              1  2.000           0                  1   \n",
       "4                  8              4  2.018           1                  0   \n",
       "...              ...            ...    ...         ...                ...   \n",
       "22725              3             10  2.000           0                  0   \n",
       "22726              9              9  2.015           0                  1   \n",
       "22727             10              5  2.014           1                  0   \n",
       "22728              2             10  2.000           1                  0   \n",
       "22729              1              9  2.018           1                  0   \n",
       "\n",
       "       basement  attic  garage  hasStorageRoom  hasGuestRoom      price  \n",
       "0         0.008  5.196   0.369               0             3  343.67952  \n",
       "1         0.729  4.496   0.277               0             6  951.99580  \n",
       "2         7.473  8.953   0.245               1             9  927.64481  \n",
       "3         6.424  8.522   0.256               1             9  972.57322  \n",
       "4         7.151  2.786   0.863               0             7  618.19088  \n",
       "...         ...    ...     ...             ...           ...        ...  \n",
       "22725     4.477  0.786   0.345               0             0  559.41371  \n",
       "22726     4.811  2.454   0.755               0             7  659.47050  \n",
       "22727     5.595  4.072   0.789               0             0  932.15114  \n",
       "22728     5.358  2.513   0.411               0             0  658.47082  \n",
       "22729     6.294  1.291   0.572               0             6  823.14248  \n",
       "\n",
       "[22730 rows x 18 columns]"
      ]
     },
     "execution_count": 9,
     "metadata": {},
     "output_type": "execute_result"
    }
   ],
   "source": [
    "df_scale"
   ]
  },
  {
   "cell_type": "markdown",
   "id": "4fd1be4a",
   "metadata": {},
   "source": [
    "<a name=2.2></a>\n",
    "## 2.2) <u>analyse with cluster</u>"
   ]
  },
  {
   "cell_type": "code",
   "execution_count": 10,
   "id": "cc44f998",
   "metadata": {},
   "outputs": [],
   "source": [
    "def group(x):\n",
    "    # we will group the labels\n",
    "    group = []\n",
    "    for i in x:\n",
    "        if i not in group:\n",
    "            group.append(i)\n",
    "    return group\n",
    "\n",
    "def compute_distance_xx2(x1, x2):\n",
    "    # compute the distance squared\n",
    "    m = x1.shape[0]\n",
    "    if m != x2.shape[0]:\n",
    "        print('error, the lenght of the two points are not equal')\n",
    "    else:\n",
    "        dist = 0\n",
    "        for i in range(m):\n",
    "            dist += (x1[i] - x2[i])**2\n",
    "        return dist\n",
    "\n",
    "def cost_function(x, centroid, idx):\n",
    "    m, n = x.shape\n",
    "    K = centroid.shape[0]\n",
    "    labels = group(idx) # index content the labels of cluster\n",
    "    cost = 0\n",
    "    for k in range(K):\n",
    "        # go throuth the labels of cluster, in each step we will compare to the label in idx\n",
    "        for i in range(m):\n",
    "            if idx[i] == labels[k]: \n",
    "                cost += compute_distance_xx2(x[i], centroid[k])\n",
    "    return cost"
   ]
  },
  {
   "cell_type": "code",
   "execution_count": 11,
   "id": "b23435ea",
   "metadata": {},
   "outputs": [
    {
     "name": "stderr",
     "output_type": "stream",
     "text": [
      "/home/ilaid/.local/lib/python3.11/site-packages/sklearn/cluster/_kmeans.py:870: FutureWarning: The default value of `n_init` will change from 10 to 'auto' in 1.4. Set the value of `n_init` explicitly to suppress the warning\n",
      "  warnings.warn(\n",
      "/home/ilaid/.local/lib/python3.11/site-packages/sklearn/cluster/_kmeans.py:870: FutureWarning: The default value of `n_init` will change from 10 to 'auto' in 1.4. Set the value of `n_init` explicitly to suppress the warning\n",
      "  warnings.warn(\n",
      "/home/ilaid/.local/lib/python3.11/site-packages/sklearn/cluster/_kmeans.py:870: FutureWarning: The default value of `n_init` will change from 10 to 'auto' in 1.4. Set the value of `n_init` explicitly to suppress the warning\n",
      "  warnings.warn(\n",
      "/home/ilaid/.local/lib/python3.11/site-packages/sklearn/cluster/_kmeans.py:870: FutureWarning: The default value of `n_init` will change from 10 to 'auto' in 1.4. Set the value of `n_init` explicitly to suppress the warning\n",
      "  warnings.warn(\n"
     ]
    },
    {
     "name": "stdout",
     "output_type": "stream",
     "text": [
      "[40335416923176.086, 4.2267198493259283e+17, 61113013768067.41, 1.6849223063124774e+17]\n"
     ]
    }
   ],
   "source": [
    "x = df_scale[features].values\n",
    "K_centers = [2,3,4,5]\n",
    "cost_list = []\n",
    "x = df[features].values\n",
    "for k_center in K_centers:\n",
    "    km = KMeans(k_center)\n",
    "    km.fit(x)\n",
    "    centroid = km.cluster_centers_\n",
    "    index = km.labels_\n",
    "    cost_list.append(cost_function(x, centroid, index))\n",
    "print(cost_list)\n"
   ]
  },
  {
   "cell_type": "code",
   "execution_count": 12,
   "id": "a8871ce4",
   "metadata": {},
   "outputs": [
    {
     "name": "stderr",
     "output_type": "stream",
     "text": [
      "/home/ilaid/.local/lib/python3.11/site-packages/sklearn/cluster/_kmeans.py:870: FutureWarning: The default value of `n_init` will change from 10 to 'auto' in 1.4. Set the value of `n_init` explicitly to suppress the warning\n",
      "  warnings.warn(\n"
     ]
    }
   ],
   "source": [
    "# here we have for k = 2, the cost = 40335416923176.086 ( the minimum)\n",
    "km = KMeans(2)\n",
    "km.fit(x)\n",
    "labels = km.labels_\n",
    "#df['label'] = labels\n"
   ]
  },
  {
   "cell_type": "markdown",
   "id": "5cfeb661",
   "metadata": {},
   "source": [
    "<a name=3></a>\n",
    "# 3- Find the features that have at least a good relationship with the target\n",
    "\n",
    "<a name=3.1></a>\n",
    "## 3.1) <u>check out p value and coef</u>\n",
    "- output the p value and p coef\n",
    "- plot the graph for target and each features.\n",
    "- `In this case, we will use scipy.stats to get pearson and coefficient values and check out what features are useful to fit the model`"
   ]
  },
  {
   "cell_type": "code",
   "execution_count": 13,
   "id": "2b1d8610",
   "metadata": {},
   "outputs": [],
   "source": [
    "# class 'correlation' have two function:\n",
    "# - dataframe() will return a dataframe content p value and p coef for target and each features\n",
    "# - plot() will plot the graphs using linear regression with target and each features\n",
    "class correlation:\n",
    "    def __init__(self, x, y):\n",
    "        self.x = x\n",
    "        self.y = y\n",
    "    \n",
    "    def dataframe(self):\n",
    "        p_values = []\n",
    "        p_coefs = []\n",
    "        for i in self.x.columns:\n",
    "            p_coef, p_value = stats.pearsonr(self.x[i], self.y)\n",
    "            \n",
    "            p_values.append(p_value)\n",
    "            p_coefs.append(p_coef)\n",
    "        data = pd.DataFrame({'p value':p_values, 'p coef':p_coefs}, index=self.x.columns)\n",
    "        return data\n",
    "    \n",
    "    def plot(self):\n",
    "        lr = LinearRegression()\n",
    "        for i in self.x.columns:\n",
    "            lr.fit(self.x[[i]], self.y)\n",
    "            w = lr.coef_\n",
    "            b = lr.intercept_\n",
    "            f_wb = np.dot(self.x[[i]], w) + b\n",
    "            plt.plot(self.x[i], self.y, '.', color='blue')\n",
    "            plt.plot(self.x[i], f_wb, '-',  color='red')\n",
    "            plt.xlabel(i)\n",
    "            plt.ylabel('price')\n",
    "            p_coef, p_value = stats.pearsonr(self.x[i], self.y)\n",
    "            title = i, ' with p value = ', p_value, ' AND p coef = ',p_coef\n",
    "            plt.title(title)\n",
    "            plt.show()\n",
    "            print('\\n')"
   ]
  },
  {
   "cell_type": "code",
   "execution_count": 14,
   "id": "c12f8d14",
   "metadata": {},
   "outputs": [
    {
     "name": "stdout",
     "output_type": "stream",
     "text": [
      "                        p value    p coef\n",
      "squareMeters       0.000000e+00  0.591749\n",
      "numberOfRooms      1.260007e-43  0.091681\n",
      "hasYard            7.012288e-01 -0.002545\n",
      "hasPool            3.639048e-01  0.006023\n",
      "floors             7.157292e-09  0.038374\n",
      "cityCode           9.166072e-04  0.021986\n",
      "cityPartRange      1.579501e-01 -0.009366\n",
      "numPrevOwners      1.975952e-01 -0.008546\n",
      "made               2.528475e-04  0.024270\n",
      "isNewBuilt         2.231587e-01  0.008080\n",
      "hasStormProtector  1.983697e-03  0.020512\n",
      "basement           1.371101e-07 -0.034940\n",
      "attic              3.016959e-01 -0.006851\n",
      "garage             7.803127e-74 -0.120137\n",
      "hasStorageRoom     8.132475e-01  0.001567\n",
      "hasGuestRoom       1.605128e-01 -0.009309\n",
      "\n"
     ]
    },
    {
     "data": {
      "image/png": "[encoded data removed]",
      "text/plain": [
       "<Figure size 432x288 with 1 Axes>"
      ]
     },
     "metadata": {
      "needs_background": "light"
     },
     "output_type": "display_data"
    },
    {
     "name": "stdout",
     "output_type": "stream",
     "text": [
      "\n",
      "\n"
     ]
    },
    {
     "data": {
      "image/png": "[encoded data removed]",
      "text/plain": [
       "<Figure size 432x288 with 1 Axes>"
      ]
     },
     "metadata": {
      "needs_background": "light"
     },
     "output_type": "display_data"
    },
    {
     "name": "stdout",
     "output_type": "stream",
     "text": [
      "\n",
      "\n"
     ]
    },
    {
     "data": {
      "image/png": "[encoded data removed]",
      "text/plain": [
       "<Figure size 432x288 with 1 Axes>"
      ]
     },
     "metadata": {
      "needs_background": "light"
     },
     "output_type": "display_data"
    },
    {
     "name": "stdout",
     "output_type": "stream",
     "text": [
      "\n",
      "\n"
     ]
    },
    {
     "data": {
      "image/png": "[encoded data removed]",
      "text/plain": [
       "<Figure size 432x288 with 1 Axes>"
      ]
     },
     "metadata": {
      "needs_background": "light"
     },
     "output_type": "display_data"
    },
    {
     "name": "stdout",
     "output_type": "stream",
     "text": [
      "\n",
      "\n"
     ]
    },
    {
     "data": {
      "image/png": "[encoded data removed]",
      "text/plain": [
       "<Figure size 432x288 with 1 Axes>"
      ]
     },
     "metadata": {
      "needs_background": "light"
     },
     "output_type": "display_data"
    },
    {
     "name": "stdout",
     "output_type": "stream",
     "text": [
      "\n",
      "\n"
     ]
    },
    {
     "data": {
      "image/png": "[encoded data removed]",
      "text/plain": [
       "<Figure size 432x288 with 1 Axes>"
      ]
     },
     "metadata": {
      "needs_background": "light"
     },
     "output_type": "display_data"
    },
    {
     "name": "stdout",
     "output_type": "stream",
     "text": [
      "\n",
      "\n"
     ]
    },
    {
     "data": {
      "image/png": "[encoded data removed]",
      "text/plain": [
       "<Figure size 432x288 with 1 Axes>"
      ]
     },
     "metadata": {
      "needs_background": "light"
     },
     "output_type": "display_data"
    },
    {
     "name": "stdout",
     "output_type": "stream",
     "text": [
      "\n",
      "\n"
     ]
    },
    {
     "data": {
      "image/png": "[encoded data removed]",
      "text/plain": [
       "<Figure size 432x288 with 1 Axes>"
      ]
     },
     "metadata": {
      "needs_background": "light"
     },
     "output_type": "display_data"
    },
    {
     "name": "stdout",
     "output_type": "stream",
     "text": [
      "\n",
      "\n"
     ]
    },
    {
     "data": {
      "image/png": "[encoded data removed]",
      "text/plain": [
       "<Figure size 432x288 with 1 Axes>"
      ]
     },
     "metadata": {
      "needs_background": "light"
     },
     "output_type": "display_data"
    },
    {
     "name": "stdout",
     "output_type": "stream",
     "text": [
      "\n",
      "\n"
     ]
    },
    {
     "data": {
      "image/png": "[encoded data removed]",
      "text/plain": [
       "<Figure size 432x288 with 1 Axes>"
      ]
     },
     "metadata": {
      "needs_background": "light"
     },
     "output_type": "display_data"
    },
    {
     "name": "stdout",
     "output_type": "stream",
     "text": [
      "\n",
      "\n"
     ]
    },
    {
     "data": {
      "image/png": "[encoded data removed]",
      "text/plain": [
       "<Figure size 432x288 with 1 Axes>"
      ]
     },
     "metadata": {
      "needs_background": "light"
     },
     "output_type": "display_data"
    },
    {
     "name": "stdout",
     "output_type": "stream",
     "text": [
      "\n",
      "\n"
     ]
    },
    {
     "data": {
      "image/png": "[encoded data removed]",
      "text/plain": [
       "<Figure size 432x288 with 1 Axes>"
      ]
     },
     "metadata": {
      "needs_background": "light"
     },
     "output_type": "display_data"
    },
    {
     "name": "stdout",
     "output_type": "stream",
     "text": [
      "\n",
      "\n"
     ]
    },
    {
     "data": {
      "image/png": "[encoded data removed]",
      "text/plain": [
       "<Figure size 432x288 with 1 Axes>"
      ]
     },
     "metadata": {
      "needs_background": "light"
     },
     "output_type": "display_data"
    },
    {
     "name": "stdout",
     "output_type": "stream",
     "text": [
      "\n",
      "\n"
     ]
    },
    {
     "data": {
      "image/png": "[encoded data removed]",
      "text/plain": [
       "<Figure size 432x288 with 1 Axes>"
      ]
     },
     "metadata": {
      "needs_background": "light"
     },
     "output_type": "display_data"
    },
    {
     "name": "stdout",
     "output_type": "stream",
     "text": [
      "\n",
      "\n"
     ]
    },
    {
     "data": {
      "image/png": "[encoded data removed]",
      "text/plain": [
       "<Figure size 432x288 with 1 Axes>"
      ]
     },
     "metadata": {
      "needs_background": "light"
     },
     "output_type": "display_data"
    },
    {
     "name": "stdout",
     "output_type": "stream",
     "text": [
      "\n",
      "\n"
     ]
    },
    {
     "data": {
      "image/png": "[encoded data removed]",
      "text/plain": [
       "<Figure size 432x288 with 1 Axes>"
      ]
     },
     "metadata": {
      "needs_background": "light"
     },
     "output_type": "display_data"
    },
    {
     "name": "stdout",
     "output_type": "stream",
     "text": [
      "\n",
      "\n"
     ]
    }
   ],
   "source": [
    "corr = correlation(df_scale[features], df_scale[target])\n",
    "data = corr.dataframe()\n",
    "print(data)\n",
    "print()\n",
    "corr.plot()"
   ]
  },
  {
   "cell_type": "markdown",
   "id": "6cb768d1",
   "metadata": {},
   "source": [
    "<a name=3.2></a>\n",
    "## 3.2 <u>choose the features</u>\n",
    "taking the features that not have a weak relationship"
   ]
  },
  {
   "cell_type": "code",
   "execution_count": 15,
   "id": "7a5183a3",
   "metadata": {},
   "outputs": [],
   "source": [
    "class choose_features:\n",
    "    def __init__(self, data):\n",
    "        self.data = data\n",
    "    \n",
    "    def not_weak(self): \n",
    "        # function will take all features that have a good relationship( not include weak relationship)\n",
    "        # so we will consider features that have moderate and strong relationship\n",
    "        new_feat = []\n",
    "        for i in self.data['p value']:\n",
    "            if i <=0.1:\n",
    "                feature = self.data[self.data['p value'] == i].index[0]\n",
    "                new_feat.append(feature)\n",
    "        return new_feat\n",
    "    \n",
    "    def even_weak(self):\n",
    "        # function will take all features that have good and/or enough good relationship (include weak relation)\n",
    "        new_feat = []\n",
    "        for i in self.data['p value']:\n",
    "            if i < 0.05:\n",
    "                feature = self.data[self.data['p value'] == i].index[0]\n",
    "                new_feat.append(feature)\n",
    "        return new_feat"
   ]
  },
  {
   "cell_type": "code",
   "execution_count": 16,
   "id": "f8886d34",
   "metadata": {},
   "outputs": [],
   "source": [
    "choose = choose_features(data)\n",
    "not_weak = choose.not_weak()\n",
    "even_weak = choose.even_weak()"
   ]
  },
  {
   "cell_type": "code",
   "execution_count": 17,
   "id": "00cb0e1a",
   "metadata": {},
   "outputs": [
    {
     "name": "stdout",
     "output_type": "stream",
     "text": [
      "['squareMeters', 'numberOfRooms', 'floors', 'cityCode', 'made', 'hasStormProtector', 'basement', 'garage'] \n",
      "\n",
      "['squareMeters', 'numberOfRooms', 'floors', 'cityCode', 'made', 'hasStormProtector', 'basement', 'garage']\n"
     ]
    }
   ],
   "source": [
    "print(not_weak,'\\n')\n",
    "print(even_weak)\n",
    "features = even_weak\n",
    "# hereh we have the same values of list, so we will use all those features to build the model"
   ]
  },
  {
   "cell_type": "markdown",
   "id": "7dcbb322",
   "metadata": {},
   "source": [
    "<a name=4></a>\n",
    "# 4- Split the data into train, (valid) and test set"
   ]
  },
  {
   "cell_type": "code",
   "execution_count": 18,
   "id": "68b4d6c9",
   "metadata": {},
   "outputs": [],
   "source": [
    "# here we will include the validation set if the data have much sample example\n",
    "# so we will use train and test set for our model\n",
    "class kflod:\n",
    "    def __init__(self, k, x, y):\n",
    "        self.k = k\n",
    "        self.x = x\n",
    "        self.y = y\n",
    "    \n",
    "    def split(self):\n",
    "        kf = KFold(n_splits = self.k)\n",
    "        splits = list(kf.split(self.x, self.y))\n",
    "        train_valid_test = []\n",
    "        for i in splits:\n",
    "            train, test = i\n",
    "            x_train, y_train = self.x.iloc[train], self.y.iloc[train]\n",
    "            \n",
    "            x_test, y_test = self.x.iloc[test], self.y.iloc[test]\n",
    "            \n",
    "            x_valid, x_test, y_valid, y_test = train_test_split(x_test, y_test, test_size=0.5)\n",
    "            \n",
    "            train_valid_test.append([x_train, y_train, x_valid, y_valid, x_test, y_test])\n",
    "        return train_valid_test\n"
   ]
  },
  {
   "cell_type": "code",
   "execution_count": 19,
   "id": "10a05fc0",
   "metadata": {},
   "outputs": [],
   "source": [
    "kf = kflod(5, df_scale[features], df_scale[target])\n",
    "sets = kf.split()"
   ]
  },
  {
   "cell_type": "code",
   "execution_count": 20,
   "id": "50e8745d",
   "metadata": {},
   "outputs": [
    {
     "data": {
      "text/html": [
       "<div>\n",
       "<style scoped>\n",
       "    .dataframe tbody tr th:only-of-type {\n",
       "        vertical-align: middle;\n",
       "    }\n",
       "\n",
       "    .dataframe tbody tr th {\n",
       "        vertical-align: top;\n",
       "    }\n",
       "\n",
       "    .dataframe thead th {\n",
       "        text-align: right;\n",
       "    }\n",
       "</style>\n",
       "<table border=\"1\" class=\"dataframe\">\n",
       "  <thead>\n",
       "    <tr style=\"text-align: right;\">\n",
       "      <th></th>\n",
       "      <th>squareMeters</th>\n",
       "      <th>numberOfRooms</th>\n",
       "      <th>floors</th>\n",
       "      <th>cityCode</th>\n",
       "      <th>made</th>\n",
       "      <th>hasStormProtector</th>\n",
       "      <th>basement</th>\n",
       "      <th>garage</th>\n",
       "    </tr>\n",
       "  </thead>\n",
       "  <tbody>\n",
       "    <tr>\n",
       "      <th>4546</th>\n",
       "      <td>82.102</td>\n",
       "      <td>47</td>\n",
       "      <td>0.081</td>\n",
       "      <td>7.782</td>\n",
       "      <td>2.006</td>\n",
       "      <td>0</td>\n",
       "      <td>8.509</td>\n",
       "      <td>0.377</td>\n",
       "    </tr>\n",
       "    <tr>\n",
       "      <th>4547</th>\n",
       "      <td>48.399</td>\n",
       "      <td>87</td>\n",
       "      <td>0.045</td>\n",
       "      <td>38.471</td>\n",
       "      <td>2.007</td>\n",
       "      <td>1</td>\n",
       "      <td>7.398</td>\n",
       "      <td>0.401</td>\n",
       "    </tr>\n",
       "    <tr>\n",
       "      <th>4548</th>\n",
       "      <td>82.585</td>\n",
       "      <td>39</td>\n",
       "      <td>0.085</td>\n",
       "      <td>91.254</td>\n",
       "      <td>2.004</td>\n",
       "      <td>0</td>\n",
       "      <td>5.183</td>\n",
       "      <td>0.933</td>\n",
       "    </tr>\n",
       "    <tr>\n",
       "      <th>4549</th>\n",
       "      <td>57.582</td>\n",
       "      <td>38</td>\n",
       "      <td>0.076</td>\n",
       "      <td>31.310</td>\n",
       "      <td>2.014</td>\n",
       "      <td>0</td>\n",
       "      <td>5.784</td>\n",
       "      <td>0.712</td>\n",
       "    </tr>\n",
       "    <tr>\n",
       "      <th>4550</th>\n",
       "      <td>94.313</td>\n",
       "      <td>46</td>\n",
       "      <td>0.060</td>\n",
       "      <td>68.494</td>\n",
       "      <td>2.020</td>\n",
       "      <td>1</td>\n",
       "      <td>4.581</td>\n",
       "      <td>0.136</td>\n",
       "    </tr>\n",
       "    <tr>\n",
       "      <th>...</th>\n",
       "      <td>...</td>\n",
       "      <td>...</td>\n",
       "      <td>...</td>\n",
       "      <td>...</td>\n",
       "      <td>...</td>\n",
       "      <td>...</td>\n",
       "      <td>...</td>\n",
       "      <td>...</td>\n",
       "    </tr>\n",
       "    <tr>\n",
       "      <th>22725</th>\n",
       "      <td>55.825</td>\n",
       "      <td>84</td>\n",
       "      <td>0.070</td>\n",
       "      <td>12.031</td>\n",
       "      <td>2.000</td>\n",
       "      <td>0</td>\n",
       "      <td>4.477</td>\n",
       "      <td>0.345</td>\n",
       "    </tr>\n",
       "    <tr>\n",
       "      <th>22726</th>\n",
       "      <td>65.870</td>\n",
       "      <td>88</td>\n",
       "      <td>0.049</td>\n",
       "      <td>23.197</td>\n",
       "      <td>2.015</td>\n",
       "      <td>1</td>\n",
       "      <td>4.811</td>\n",
       "      <td>0.755</td>\n",
       "    </tr>\n",
       "    <tr>\n",
       "      <th>22727</th>\n",
       "      <td>93.192</td>\n",
       "      <td>42</td>\n",
       "      <td>0.039</td>\n",
       "      <td>8.539</td>\n",
       "      <td>2.014</td>\n",
       "      <td>0</td>\n",
       "      <td>5.595</td>\n",
       "      <td>0.789</td>\n",
       "    </tr>\n",
       "    <tr>\n",
       "      <th>22728</th>\n",
       "      <td>65.797</td>\n",
       "      <td>86</td>\n",
       "      <td>0.089</td>\n",
       "      <td>23.197</td>\n",
       "      <td>2.000</td>\n",
       "      <td>0</td>\n",
       "      <td>5.358</td>\n",
       "      <td>0.411</td>\n",
       "    </tr>\n",
       "    <tr>\n",
       "      <th>22729</th>\n",
       "      <td>82.244</td>\n",
       "      <td>18</td>\n",
       "      <td>0.038</td>\n",
       "      <td>86.728</td>\n",
       "      <td>2.018</td>\n",
       "      <td>0</td>\n",
       "      <td>6.294</td>\n",
       "      <td>0.572</td>\n",
       "    </tr>\n",
       "  </tbody>\n",
       "</table>\n",
       "<p>18184 rows × 8 columns</p>\n",
       "</div>"
      ],
      "text/plain": [
       "       squareMeters  numberOfRooms  floors  cityCode   made  \\\n",
       "4546         82.102             47   0.081     7.782  2.006   \n",
       "4547         48.399             87   0.045    38.471  2.007   \n",
       "4548         82.585             39   0.085    91.254  2.004   \n",
       "4549         57.582             38   0.076    31.310  2.014   \n",
       "4550         94.313             46   0.060    68.494  2.020   \n",
       "...             ...            ...     ...       ...    ...   \n",
       "22725        55.825             84   0.070    12.031  2.000   \n",
       "22726        65.870             88   0.049    23.197  2.015   \n",
       "22727        93.192             42   0.039     8.539  2.014   \n",
       "22728        65.797             86   0.089    23.197  2.000   \n",
       "22729        82.244             18   0.038    86.728  2.018   \n",
       "\n",
       "       hasStormProtector  basement  garage  \n",
       "4546                   0     8.509   0.377  \n",
       "4547                   1     7.398   0.401  \n",
       "4548                   0     5.183   0.933  \n",
       "4549                   0     5.784   0.712  \n",
       "4550                   1     4.581   0.136  \n",
       "...                  ...       ...     ...  \n",
       "22725                  0     4.477   0.345  \n",
       "22726                  1     4.811   0.755  \n",
       "22727                  0     5.595   0.789  \n",
       "22728                  0     5.358   0.411  \n",
       "22729                  0     6.294   0.572  \n",
       "\n",
       "[18184 rows x 8 columns]"
      ]
     },
     "execution_count": 20,
     "metadata": {},
     "output_type": "execute_result"
    }
   ],
   "source": [
    "x1, y1, x2, y2, x3, y3= sets[0]\n",
    "x1"
   ]
  },
  {
   "cell_type": "code",
   "execution_count": 21,
   "id": "60ff89a7",
   "metadata": {},
   "outputs": [
    {
     "name": "stdout",
     "output_type": "stream",
     "text": [
      "set  1\n",
      "      squareMeters  numberOfRooms  floors  cityCode   made  hasStormProtector  \\\n",
      "2278        91.559             18   0.034    87.517  2.007                  0   \n",
      "1903        88.410             38   0.089    88.616  2.014                  0   \n",
      "3289        12.902             10   0.069    84.914  2.017                  0   \n",
      "3518        45.955             67   0.076    16.935  1.998                  1   \n",
      "2898        55.845             74   0.069     8.845  2.019                  1   \n",
      "...            ...            ...     ...       ...    ...                ...   \n",
      "3524        95.116             83   0.062    46.253  2.017                  0   \n",
      "2402        85.462             52   0.095    77.551  2.006                  0   \n",
      "537         24.972             85   0.068    35.787  2.007                  1   \n",
      "2938        77.231             86   0.070    92.011  2.008                  0   \n",
      "1584        35.122             51   0.052    21.091  2.000                  0   \n",
      "\n",
      "      basement  garage  \n",
      "2278     3.244   0.195  \n",
      "1903     5.369   0.480  \n",
      "3289     7.744   0.954  \n",
      "3518     5.166   0.792  \n",
      "2898     7.058   0.935  \n",
      "...        ...     ...  \n",
      "3524     6.839   0.831  \n",
      "2402     9.052   0.738  \n",
      "537      4.334   0.879  \n",
      "2938     3.918   0.139  \n",
      "1584     8.349   0.415  \n",
      "\n",
      "[2273 rows x 8 columns]\n",
      "\n",
      "set  2\n",
      "      squareMeters  numberOfRooms  floors  cityCode   made  hasStormProtector  \\\n",
      "6981         7.685             48   0.052    36.132  1.994                  0   \n",
      "5476        95.273              2   0.028    14.117  1.994                  0   \n",
      "7577        67.529             76   0.038    93.489  2.019                  0   \n",
      "6790         4.922             10   0.020    37.135  2.000                  0   \n",
      "5665        59.392             23   0.026    64.654  1.992                  1   \n",
      "...            ...            ...     ...       ...    ...                ...   \n",
      "5069         8.969             65   0.043    66.353  2.013                  1   \n",
      "7411        42.277             36   0.007    46.538  1.999                  0   \n",
      "5249        29.396             46   0.067    47.345  2.015                  1   \n",
      "8717        18.179             66   0.018    50.124  2.004                  1   \n",
      "7572        71.593             64   0.081    47.472  2.017                  1   \n",
      "\n",
      "      basement  garage  \n",
      "6981     5.136   0.952  \n",
      "5476     0.274   0.335  \n",
      "7577     7.739   0.417  \n",
      "6790     0.483   0.269  \n",
      "5665     4.514   0.734  \n",
      "...        ...     ...  \n",
      "5069     0.782   0.819  \n",
      "7411     0.928   0.664  \n",
      "5249     6.762   0.166  \n",
      "8717     0.575   0.377  \n",
      "7572     3.231   0.629  \n",
      "\n",
      "[2273 rows x 8 columns]\n",
      "\n",
      "set  3\n",
      "       squareMeters  numberOfRooms  floors  cityCode   made  \\\n",
      "9109         86.474             52   0.035    34.292  2.004   \n",
      "10782        24.239            100   0.045    76.887  1.998   \n",
      "11125        79.572             48   0.029    90.262  2.005   \n",
      "9589         86.850             86   0.063    15.984  2.013   \n",
      "11665        10.637             21   0.014    24.499  1.997   \n",
      "...             ...            ...     ...       ...    ...   \n",
      "9727         17.791             46   0.036    30.112  2.006   \n",
      "11691        26.162             44   0.005    22.354  2.000   \n",
      "10249        84.387             61   0.022    93.839  1.997   \n",
      "9644         48.926             36   0.018    64.654  2.014   \n",
      "13088        61.295             10   0.081    32.535  2.015   \n",
      "\n",
      "       hasStormProtector  basement  garage  \n",
      "9109                   0     1.618   0.684  \n",
      "10782                  1     8.183   0.812  \n",
      "11125                  0     4.238   0.578  \n",
      "9589                   0     7.258   0.623  \n",
      "11665                  1     3.710   0.369  \n",
      "...                  ...       ...     ...  \n",
      "9727                   1     9.901   0.933  \n",
      "11691                  0     8.836   0.198  \n",
      "10249                  1     1.982   0.583  \n",
      "9644                   0     7.301   0.489  \n",
      "13088                  0     4.908   0.912  \n",
      "\n",
      "[2273 rows x 8 columns]\n",
      "\n",
      "set  4\n",
      "       squareMeters  numberOfRooms  floors  cityCode   made  \\\n",
      "16763        69.242             45   0.021    27.644  2.008   \n",
      "16633        13.323             29   0.049    76.229  2.019   \n",
      "15707         6.518             12   0.016    18.325  2.000   \n",
      "15624        48.926              4   0.013    57.773  2.014   \n",
      "17199        34.838             45   0.084     0.795  2.018   \n",
      "...             ...            ...     ...       ...    ...   \n",
      "16098        95.878              7   0.002    79.838  2.018   \n",
      "16304        91.559             74   0.033    97.510  2.007   \n",
      "18065        21.187             62   0.084    18.227  1.995   \n",
      "17501        51.687             94   0.037    15.460  2.000   \n",
      "18059        79.109             84   0.041    17.971  2.007   \n",
      "\n",
      "       hasStormProtector  basement  garage  \n",
      "16763                  1     3.521   0.537  \n",
      "16633                  1     9.836   0.125  \n",
      "15707                  0     6.725   0.547  \n",
      "15624                  0     9.227   0.423  \n",
      "17199                  1     7.388   0.745  \n",
      "...                  ...       ...     ...  \n",
      "16098                  0     0.718   0.549  \n",
      "16304                  0     3.684   0.223  \n",
      "18065                  0     4.538   0.836  \n",
      "17501                  1     1.871   0.945  \n",
      "18059                  1     8.349   0.267  \n",
      "\n",
      "[2273 rows x 8 columns]\n",
      "\n",
      "set  5\n",
      "       squareMeters  numberOfRooms  floors  cityCode   made  \\\n",
      "21098        52.202              6   0.088    39.343  2.000   \n",
      "22534        19.219             33   0.026    75.287  1.994   \n",
      "22097        82.372             78   0.024    92.580  2.018   \n",
      "21465        55.209             13   0.010    76.760  2.006   \n",
      "20775        43.776             42   0.069    62.672  2.007   \n",
      "...             ...            ...     ...       ...    ...   \n",
      "19810         8.978             50   0.025     6.990  2.020   \n",
      "22145        64.331             35   0.094    69.766  2.015   \n",
      "21860        18.037             46   0.048    91.758  2.009   \n",
      "18646        24.519             47   0.050     5.764  2.000   \n",
      "18894        95.404              2   0.003    74.404  2.009   \n",
      "\n",
      "       hasStormProtector  basement  garage  \n",
      "21098                  1     5.589   0.198  \n",
      "22534                  1     5.359   0.221  \n",
      "22097                  1     7.963   0.621  \n",
      "21465                  1     9.712   0.458  \n",
      "20775                  1     7.842   0.496  \n",
      "...                  ...       ...     ...  \n",
      "19810                  0     8.687   0.404  \n",
      "22145                  0     8.168   0.604  \n",
      "21860                  0     7.229   1.000  \n",
      "18646                  0     1.311   0.119  \n",
      "18894                  0     9.180   0.915  \n",
      "\n",
      "[2273 rows x 8 columns]\n",
      "\n"
     ]
    }
   ],
   "source": [
    "# define x_train, y_train, x_valid, y_valid, x_test and y_test\n",
    "nbre= 0\n",
    "for i in sets:\n",
    "    x_train, y_train, x_valid, y_valid, x_test, y_test = i\n",
    "    nbre += 1\n",
    "    print('set ', nbre)\n",
    "    print(x_test)\n",
    "    print()"
   ]
  },
  {
   "cell_type": "markdown",
   "id": "619c5791",
   "metadata": {},
   "source": [
    "<a name=5></a>\n",
    "# 5- Build a model\n",
    "\n",
    "<a name=5.1></a>\n",
    "## 5.1 ) <u>polynomial features</u>"
   ]
  },
  {
   "cell_type": "code",
   "execution_count": 22,
   "id": "b88a7bbe",
   "metadata": {},
   "outputs": [],
   "source": [
    "class model_polynom:\n",
    "    def __init__(self, x, degree):\n",
    "        self.x = x\n",
    "        self.degree = degree\n",
    "    \n",
    "    def transform(self):\n",
    "        for i in self.x:\n",
    "            model = PolynomialFeatures(degree=self.degree, include_bias=False)\n",
    "            x_poly = model.fit_transform(i)\n",
    "            yield x_poly\n",
    "    \n",
    "    def ridge(self, alpha, x_train, y_train, x_valid, y_valid, x_test, y_test):\n",
    "        model = Ridge(alpha = alpha)\n",
    "        model.fit(x_train, y_train)\n",
    "        score_train = model.score(x_train, y_train)\n",
    "        score_valid = model.score(x_valid, y_valid)\n",
    "        score_test = model.score(x_test, y_test)\n",
    "        return [score_train, score_valid, score_test]"
   ]
  },
  {
   "cell_type": "code",
   "execution_count": 23,
   "id": "efb44267",
   "metadata": {},
   "outputs": [
    {
     "name": "stderr",
     "output_type": "stream",
     "text": [
      "/home/ilaid/.local/lib/python3.11/site-packages/sklearn/linear_model/_ridge.py:216: LinAlgWarning: Ill-conditioned matrix (rcond=1.58103e-19): result may not be accurate.\n",
      "  return linalg.solve(A, Xy, assume_a=\"pos\", overwrite_a=True).T\n",
      "/home/ilaid/.local/lib/python3.11/site-packages/sklearn/linear_model/_ridge.py:216: LinAlgWarning: Ill-conditioned matrix (rcond=5.98289e-18): result may not be accurate.\n",
      "  return linalg.solve(A, Xy, assume_a=\"pos\", overwrite_a=True).T\n",
      "/home/ilaid/.local/lib/python3.11/site-packages/sklearn/linear_model/_ridge.py:216: LinAlgWarning: Ill-conditioned matrix (rcond=5.86259e-17): result may not be accurate.\n",
      "  return linalg.solve(A, Xy, assume_a=\"pos\", overwrite_a=True).T\n",
      "/home/ilaid/.local/lib/python3.11/site-packages/sklearn/linear_model/_ridge.py:216: LinAlgWarning: Ill-conditioned matrix (rcond=1.91948e-19): result may not be accurate.\n",
      "  return linalg.solve(A, Xy, assume_a=\"pos\", overwrite_a=True).T\n",
      "/home/ilaid/.local/lib/python3.11/site-packages/sklearn/linear_model/_ridge.py:216: LinAlgWarning: Ill-conditioned matrix (rcond=5.79827e-18): result may not be accurate.\n",
      "  return linalg.solve(A, Xy, assume_a=\"pos\", overwrite_a=True).T\n",
      "/home/ilaid/.local/lib/python3.11/site-packages/sklearn/linear_model/_ridge.py:216: LinAlgWarning: Ill-conditioned matrix (rcond=5.68622e-17): result may not be accurate.\n",
      "  return linalg.solve(A, Xy, assume_a=\"pos\", overwrite_a=True).T\n",
      "/home/ilaid/.local/lib/python3.11/site-packages/sklearn/linear_model/_ridge.py:216: LinAlgWarning: Ill-conditioned matrix (rcond=1.92968e-19): result may not be accurate.\n",
      "  return linalg.solve(A, Xy, assume_a=\"pos\", overwrite_a=True).T\n",
      "/home/ilaid/.local/lib/python3.11/site-packages/sklearn/linear_model/_ridge.py:216: LinAlgWarning: Ill-conditioned matrix (rcond=5.863e-18): result may not be accurate.\n",
      "  return linalg.solve(A, Xy, assume_a=\"pos\", overwrite_a=True).T\n",
      "/home/ilaid/.local/lib/python3.11/site-packages/sklearn/linear_model/_ridge.py:216: LinAlgWarning: Ill-conditioned matrix (rcond=5.75717e-17): result may not be accurate.\n",
      "  return linalg.solve(A, Xy, assume_a=\"pos\", overwrite_a=True).T\n",
      "/home/ilaid/.local/lib/python3.11/site-packages/sklearn/linear_model/_ridge.py:216: LinAlgWarning: Ill-conditioned matrix (rcond=1.62542e-19): result may not be accurate.\n",
      "  return linalg.solve(A, Xy, assume_a=\"pos\", overwrite_a=True).T\n",
      "/home/ilaid/.local/lib/python3.11/site-packages/sklearn/linear_model/_ridge.py:216: LinAlgWarning: Ill-conditioned matrix (rcond=5.96285e-18): result may not be accurate.\n",
      "  return linalg.solve(A, Xy, assume_a=\"pos\", overwrite_a=True).T\n",
      "/home/ilaid/.local/lib/python3.11/site-packages/sklearn/linear_model/_ridge.py:216: LinAlgWarning: Ill-conditioned matrix (rcond=5.87029e-17): result may not be accurate.\n",
      "  return linalg.solve(A, Xy, assume_a=\"pos\", overwrite_a=True).T\n"
     ]
    }
   ],
   "source": [
    "score_sets = []\n",
    "for i in sets:\n",
    "    score_list = []\n",
    "    x_train, y_train, x_valid, y_valid, x_test, y_test = i\n",
    "    poly = model_polynom([x_train, x_valid, x_test], 2)\n",
    "    x_train_poly, x_valid_poly, x_test_poly = poly.transform()\n",
    "    alpha = [0.0001, 0.01, 0.1, 0.2]\n",
    "    MSE_list = []\n",
    "    for i in alpha:\n",
    "        score = poly.ridge(i, x_train_poly, y_train, x_valid_poly, y_valid, x_test_poly, y_test)\n",
    "        score_list.append(score)\n",
    "    score_sets.append(score_list)"
   ]
  },
  {
   "cell_type": "code",
   "execution_count": 24,
   "id": "d1998d01",
   "metadata": {},
   "outputs": [
    {
     "name": "stdout",
     "output_type": "stream",
     "text": [
      "set  1\n",
      "[[0.9948502517636153, 0.9941422090572033, 0.9980786056755654], [0.9948502175165991, 0.9941424183465374, 0.9981128603153534], [0.9948501897642265, 0.9941429919914131, 0.9981353085847726], [0.9948501655154486, 0.9941433010349021, 0.9981431643752183]]\n",
      "\n",
      "set  2\n",
      "[[0.9967355279406238, 0.7457691931709731, 0.9918595331137338], [0.9967354457391306, 0.9289923597996557, 0.9918594495173518], [0.9967351747838504, 0.9830090405144978, 0.9918599811877464], [0.9967351074046114, 0.9845344840489669, 0.9918602993378739]]\n",
      "\n",
      "set  3\n",
      "[[0.9941275899085571, 0.9986371698249762, 0.9996145332520094], [0.9941275818842407, 0.9986373141992191, 0.9996145705020779], [0.9941275328603728, 0.9986377148506331, 0.9996147195923459], [0.9941275048899866, 0.9986379174070614, 0.9996147772789538]]\n",
      "\n",
      "set  4\n",
      "[[0.9952258040019616, 0.9940337991595926, -0.8827697559421745], [0.9952257742134233, 0.9940341201061713, -0.8902152492959228], [0.9952257139569758, 0.9940346501588595, -0.900809818432329], [0.9952256905515892, 0.9940348403494964, -0.9005814360767648]]\n",
      "\n",
      "set  5\n",
      "[[0.9947017337086932, 0.991446510656618, 0.9993437960230014], [0.994701716449696, 0.991587110027374, 0.9993890433200019], [0.994701598823865, 0.9922205207908587, 0.9996023280627258], [0.9947015412499967, 0.9924911803270753, 0.9996947786142344]]\n",
      "\n"
     ]
    }
   ],
   "source": [
    "nbre = 0\n",
    "df_sets_list = []\n",
    "for i in score_sets:\n",
    "    nbre += 1\n",
    "    print('set ',nbre)\n",
    "    print(i)\n",
    "    print()\n",
    "    \n",
    "    df_score = pd.DataFrame(i, columns=['score train', 'score valid', 'score test'], index = alpha)\n",
    "    df_sets_list.append(df_score)"
   ]
  },
  {
   "cell_type": "markdown",
   "id": "339bbb4e",
   "metadata": {},
   "source": [
    "<a name=5.1.1></a>\n",
    "### 5.1.1) Analyse models"
   ]
  },
  {
   "cell_type": "code",
   "execution_count": 25,
   "id": "8ac5ae00",
   "metadata": {},
   "outputs": [
    {
     "name": "stdout",
     "output_type": "stream",
     "text": [
      "set  1\n",
      "        score train  score valid  score test\n",
      "0.0001      0.99485     0.994142    0.998079\n",
      "0.0100      0.99485     0.994142    0.998113\n",
      "0.1000      0.99485     0.994143    0.998135\n",
      "0.2000      0.99485     0.994143    0.998143\n",
      "\n",
      "set  2\n",
      "        score train  score valid  score test\n",
      "0.0001     0.996736     0.745769    0.991860\n",
      "0.0100     0.996735     0.928992    0.991859\n",
      "0.1000     0.996735     0.983009    0.991860\n",
      "0.2000     0.996735     0.984534    0.991860\n",
      "\n",
      "set  3\n",
      "        score train  score valid  score test\n",
      "0.0001     0.994128     0.998637    0.999615\n",
      "0.0100     0.994128     0.998637    0.999615\n",
      "0.1000     0.994128     0.998638    0.999615\n",
      "0.2000     0.994128     0.998638    0.999615\n",
      "\n",
      "set  4\n",
      "        score train  score valid  score test\n",
      "0.0001     0.995226     0.994034   -0.882770\n",
      "0.0100     0.995226     0.994034   -0.890215\n",
      "0.1000     0.995226     0.994035   -0.900810\n",
      "0.2000     0.995226     0.994035   -0.900581\n",
      "\n",
      "set  5\n",
      "        score train  score valid  score test\n",
      "0.0001     0.994702     0.991447    0.999344\n",
      "0.0100     0.994702     0.991587    0.999389\n",
      "0.1000     0.994702     0.992221    0.999602\n",
      "0.2000     0.994702     0.992491    0.999695\n",
      "\n"
     ]
    }
   ],
   "source": [
    "# analyse the model\n",
    "# we have found that the set3 have a good result\n",
    "nbre = 0\n",
    "for data in df_sets_list:\n",
    "    nbre +=1\n",
    "    print('set ',nbre)\n",
    "    print(data)\n",
    "    print()"
   ]
  },
  {
   "cell_type": "code",
   "execution_count": 26,
   "id": "193f7cf0",
   "metadata": {},
   "outputs": [
    {
     "name": "stdout",
     "output_type": "stream",
     "text": [
      "score train\n",
      "        score train  score valid  score test\n",
      "0.0001     0.994128     0.998637    0.999615\n",
      "\n",
      "score valid\n",
      "     score train  score valid  score test\n",
      "0.2     0.994128     0.998638    0.999615\n",
      "\n",
      "score test\n",
      "     score train  score valid  score test\n",
      "0.2     0.994128     0.998638    0.999615\n",
      "\n"
     ]
    }
   ],
   "source": [
    "# we have found that set 3 have a good result, so we will focus on it\n",
    "good = df_sets_list[2]\n",
    "for i in good.columns:\n",
    "    print(i)\n",
    "    print(good[good[i] == good[i].max()])\n",
    "    print()"
   ]
  },
  {
   "cell_type": "code",
   "execution_count": 27,
   "id": "37966a1b",
   "metadata": {},
   "outputs": [],
   "source": [
    "# here, alpha:max(train) = 0.0001 BUT max(valid and test) = 0.2\n",
    "# so we consider the model with alpha = 0.2 as the best model for the set 3\n"
   ]
  },
  {
   "cell_type": "markdown",
   "id": "0d2e8083",
   "metadata": {},
   "source": [
    "<a name=5.2></a>\n",
    "## 5.2) <u>Decision tree regressor</u>"
   ]
  },
  {
   "cell_type": "code",
   "execution_count": 28,
   "id": "3c203030",
   "metadata": {},
   "outputs": [],
   "source": [
    "class tree:\n",
    "    def __init__(self, Set):\n",
    "        self.Set = Set\n",
    "    \n",
    "    def model(self):\n",
    "        dt = DecisionTreeRegressor(max_depth = 6, min_samples_split=4, min_samples_leaf = 3, max_leaf_nodes=35)\n",
    "        score_list = []\n",
    "        sets = 0\n",
    "        for i in self.Set:\n",
    "            sets +=1\n",
    "            \n",
    "            x_train, y_train, x_valid, y_valid, x_test, y_test = i\n",
    "            dt.fit(x_train, y_train)\n",
    "            scores_train = dt.score(x_train, y_train)\n",
    "            scores_valid = dt.score(x_valid, y_valid)\n",
    "            scores_test = dt.score(x_test, y_test)\n",
    "            print('sets : ',sets, ' : ',[scores_train, scores_valid, scores_test])\n",
    "            score_list.append([scores_train, scores_valid, scores_test])\n",
    "        return score_list"
   ]
  },
  {
   "cell_type": "code",
   "execution_count": 29,
   "id": "8e7db535",
   "metadata": {},
   "outputs": [
    {
     "name": "stdout",
     "output_type": "stream",
     "text": [
      "sets :  1  :  [0.995731226408096, 0.9983421901540231, 0.9961081308305472]\n",
      "sets :  2  :  [0.9971073191478719, 0.9896205868349157, 0.9920163963471107]\n",
      "sets :  3  :  [0.9954834549050662, 0.9969654626736688, 0.99836593196266]\n",
      "sets :  4  :  [0.9963528675142072, 0.9927452366052778, 0.9962048380119535]\n",
      "sets :  5  :  [0.9955779673640549, 0.9964528780940182, 0.9990526122407258]\n"
     ]
    }
   ],
   "source": [
    "dt = tree(sets)\n",
    "\n",
    "scores_list = dt.model()"
   ]
  },
  {
   "cell_type": "code",
   "execution_count": 30,
   "id": "1e290a1f",
   "metadata": {},
   "outputs": [
    {
     "data": {
      "text/plain": [
       "[[0.995731226408096, 0.9983421901540231, 0.9961081308305472],\n",
       " [0.9971073191478719, 0.9896205868349157, 0.9920163963471107],\n",
       " [0.9954834549050662, 0.9969654626736688, 0.99836593196266],\n",
       " [0.9963528675142072, 0.9927452366052778, 0.9962048380119535],\n",
       " [0.9955779673640549, 0.9964528780940182, 0.9990526122407258]]"
      ]
     },
     "execution_count": 30,
     "metadata": {},
     "output_type": "execute_result"
    }
   ],
   "source": [
    "scores_list"
   ]
  },
  {
   "cell_type": "code",
   "execution_count": 31,
   "id": "aeee6d39",
   "metadata": {},
   "outputs": [
    {
     "data": {
      "text/plain": [
       "6"
      ]
     },
     "execution_count": 31,
     "metadata": {},
     "output_type": "execute_result"
    }
   ],
   "source": [
    "len(sets[0])"
   ]
  },
  {
   "cell_type": "markdown",
   "id": "0c29c551",
   "metadata": {},
   "source": [
    "<a name=6></a>\n",
    "# 6- Take decision about what model"
   ]
  },
  {
   "cell_type": "code",
   "execution_count": 32,
   "id": "5df4d671",
   "metadata": {},
   "outputs": [
    {
     "name": "stdout",
     "output_type": "stream",
     "text": [
      "[813.22720639  96.9800033   95.00298952 ... 573.16266701 505.46138114\n",
      " 489.82705593]\n"
     ]
    }
   ],
   "source": [
    "# We find that the polynomial model give a good result than tree model\n",
    "# so we decide to consider the model polynomial as best model to use\n",
    "\n",
    "# for polynomial, we have chosen the parameter alpha = 0.2 and set KFold = 3\n",
    "data = sets[2]\n",
    "x_train, y_train, x_valid, y_valid, x_test, y_test = data\n",
    "\n",
    "poly = PolynomialFeatures(degree=2, include_bias=False)\n",
    "x_poly = poly.fit_transform(x_train)\n",
    "x_test_poly = poly.fit_transform(x_valid)\n",
    "model = Ridge(alpha=0.2)\n",
    "model.fit(x_poly, y_train)\n",
    "print(model.predict(x_test_poly))"
   ]
  },
  {
   "cell_type": "markdown",
   "id": "97a1dc6c",
   "metadata": {},
   "source": [
    "<a name=7></a>\n",
    "# 7- Make final prediction"
   ]
  },
  {
   "cell_type": "code",
   "execution_count": 33,
   "id": "19a66fbd",
   "metadata": {},
   "outputs": [],
   "source": [
    "test = pd.read_csv('test.csv')"
   ]
  },
  {
   "cell_type": "markdown",
   "id": "e0c56c45",
   "metadata": {},
   "source": [
    "<a name=7.1></a>\n",
    "## 7.1) <u>Scale the test dataset</u>"
   ]
  },
  {
   "cell_type": "code",
   "execution_count": 34,
   "id": "28f5de70",
   "metadata": {},
   "outputs": [
    {
     "name": "stdout",
     "output_type": "stream",
     "text": [
      "{'squareMeters': 99999, 'numberOfRooms': 100, 'floors': 100, 'cityCode': 977950, 'made': 2021, 'hasStormProtector': 1, 'basement': 89016, 'garage': 1000}\n",
      "{'squareMeters': 99999, 'floors': 6000, 'cityCode': 977950, 'made': 2021, 'basement': 89016, 'attic': 96381, 'garage': 1000}\n"
     ]
    }
   ],
   "source": [
    "dict_max = {}\n",
    "for i in features:\n",
    "    dict_max[i] = test[i].max()\n",
    "    if test[i].max() >= 1000:\n",
    "        great_than10e3[i] = test[i].max()\n",
    "print(dict_max)\n",
    "print(great_than10e3)"
   ]
  },
  {
   "cell_type": "code",
   "execution_count": 35,
   "id": "723eb60d",
   "metadata": {},
   "outputs": [],
   "source": [
    "test_scale = test.copy()\n",
    "scaler = to_scale(test_scale)\n",
    "test_scale = scaler.features(great_than10e3)"
   ]
  },
  {
   "cell_type": "code",
   "execution_count": 36,
   "id": "fc0878d5",
   "metadata": {},
   "outputs": [],
   "source": [
    "test_poly = poly.fit_transform(test_scale[features])\n",
    "ridge = Ridge(alpha=0.2)"
   ]
  },
  {
   "cell_type": "code",
   "execution_count": 37,
   "id": "5abce671",
   "metadata": {},
   "outputs": [],
   "source": [
    "ridge.fit(x_poly, y_train)\n",
    "ridge.score(x_test_poly,y_valid)\n",
    "y_pred = ridge.predict(test_poly)"
   ]
  },
  {
   "cell_type": "code",
   "execution_count": 38,
   "id": "48006956",
   "metadata": {},
   "outputs": [
    {
     "data": {
      "text/plain": [
       "(15154, 17)"
      ]
     },
     "execution_count": 38,
     "metadata": {},
     "output_type": "execute_result"
    }
   ],
   "source": [
    "test.shape"
   ]
  },
  {
   "cell_type": "code",
   "execution_count": 39,
   "id": "5d25b69b",
   "metadata": {},
   "outputs": [],
   "source": [
    "# restor the scale for target, \n",
    "# last we multiply target by 10**(-4) to scale the target \n",
    "# so we will scale the y_pred by multiply y_pred by 10**4\n",
    "#y_pred = y_pred * 10**4\n",
    "df_prediction = pd.DataFrame({'id':test['id'], 'price':y_pred*10**4})\n",
    "df_prediction.to_csv('submission.csv', index=False)"
   ]
  },
  {
   "cell_type": "code",
   "execution_count": 40,
   "id": "f3067f47",
   "metadata": {},
   "outputs": [
    {
     "data": {
      "text/plain": [
       "array([4778217.69235026, 6224921.2616116 , 9032884.09372828, ...,\n",
       "       7340083.10989966, 7775843.78813542, 1828552.65440123])"
      ]
     },
     "execution_count": 40,
     "metadata": {},
     "output_type": "execute_result"
    }
   ],
   "source": [
    "y_pred*10**4"
   ]
  },
  {
   "cell_type": "code",
   "execution_count": 41,
   "id": "7891a3be",
   "metadata": {},
   "outputs": [
    {
     "data": {
      "text/plain": [
       "array([[3.4291000e+01, 2.4000000e+01, 4.7000000e-02, ..., 6.4000000e-05,\n",
       "        2.9520000e-03, 1.3616100e-01],\n",
       "       [9.5145000e+01, 6.0000000e+01, 6.0000000e-02, ..., 5.3144100e-01,\n",
       "        2.0193300e-01, 7.6729000e-02],\n",
       "       [9.2661000e+01, 4.5000000e+01, 6.2000000e-02, ..., 5.5845729e+01,\n",
       "        1.8308850e+00, 6.0025000e-02],\n",
       "       ...,\n",
       "       [9.3192000e+01, 4.2000000e+01, 3.9000000e-02, ..., 3.1304025e+01,\n",
       "        4.4144550e+00, 6.2252100e-01],\n",
       "       [6.5797000e+01, 8.6000000e+01, 8.9000000e-02, ..., 2.8708164e+01,\n",
       "        2.2021380e+00, 1.6892100e-01],\n",
       "       [8.2244000e+01, 1.8000000e+01, 3.8000000e-02, ..., 3.9614436e+01,\n",
       "        3.6001680e+00, 3.2718400e-01]])"
      ]
     },
     "execution_count": 41,
     "metadata": {},
     "output_type": "execute_result"
    }
   ],
   "source": [
    "x_poly"
   ]
  },
  {
   "cell_type": "code",
   "execution_count": 42,
   "id": "b7a6e0c4",
   "metadata": {},
   "outputs": [
    {
     "data": {
      "text/plain": [
       "100"
      ]
     },
     "execution_count": 42,
     "metadata": {},
     "output_type": "execute_result"
    }
   ],
   "source": [
    "test['floors'].max()"
   ]
  },
  {
   "cell_type": "code",
   "execution_count": 43,
   "id": "ed48ba5c",
   "metadata": {},
   "outputs": [
    {
     "data": {
      "text/plain": [
       "6000"
      ]
     },
     "execution_count": 43,
     "metadata": {},
     "output_type": "execute_result"
    }
   ],
   "source": [
    "df['floors'].max()"
   ]
  },
  {
   "cell_type": "code",
   "execution_count": 44,
   "id": "69e287d6",
   "metadata": {},
   "outputs": [
    {
     "data": {
      "text/html": [
       "<div>\n",
       "<style scoped>\n",
       "    .dataframe tbody tr th:only-of-type {\n",
       "        vertical-align: middle;\n",
       "    }\n",
       "\n",
       "    .dataframe tbody tr th {\n",
       "        vertical-align: top;\n",
       "    }\n",
       "\n",
       "    .dataframe thead th {\n",
       "        text-align: right;\n",
       "    }\n",
       "</style>\n",
       "<table border=\"1\" class=\"dataframe\">\n",
       "  <thead>\n",
       "    <tr style=\"text-align: right;\">\n",
       "      <th></th>\n",
       "      <th>id</th>\n",
       "      <th>squareMeters</th>\n",
       "      <th>numberOfRooms</th>\n",
       "      <th>hasYard</th>\n",
       "      <th>hasPool</th>\n",
       "      <th>floors</th>\n",
       "      <th>cityCode</th>\n",
       "      <th>cityPartRange</th>\n",
       "      <th>numPrevOwners</th>\n",
       "      <th>made</th>\n",
       "      <th>isNewBuilt</th>\n",
       "      <th>hasStormProtector</th>\n",
       "      <th>basement</th>\n",
       "      <th>attic</th>\n",
       "      <th>garage</th>\n",
       "      <th>hasStorageRoom</th>\n",
       "      <th>hasGuestRoom</th>\n",
       "    </tr>\n",
       "  </thead>\n",
       "  <tbody>\n",
       "    <tr>\n",
       "      <th>0</th>\n",
       "      <td>22730</td>\n",
       "      <td>47580</td>\n",
       "      <td>89</td>\n",
       "      <td>0</td>\n",
       "      <td>1</td>\n",
       "      <td>8</td>\n",
       "      <td>54830</td>\n",
       "      <td>5</td>\n",
       "      <td>3</td>\n",
       "      <td>1995</td>\n",
       "      <td>0</td>\n",
       "      <td>0</td>\n",
       "      <td>6885</td>\n",
       "      <td>8181</td>\n",
       "      <td>241</td>\n",
       "      <td>0</td>\n",
       "      <td>8</td>\n",
       "    </tr>\n",
       "    <tr>\n",
       "      <th>1</th>\n",
       "      <td>22731</td>\n",
       "      <td>62083</td>\n",
       "      <td>38</td>\n",
       "      <td>0</td>\n",
       "      <td>0</td>\n",
       "      <td>87</td>\n",
       "      <td>8576</td>\n",
       "      <td>10</td>\n",
       "      <td>3</td>\n",
       "      <td>1994</td>\n",
       "      <td>1</td>\n",
       "      <td>1</td>\n",
       "      <td>4601</td>\n",
       "      <td>9237</td>\n",
       "      <td>393</td>\n",
       "      <td>1</td>\n",
       "      <td>4</td>\n",
       "    </tr>\n",
       "    <tr>\n",
       "      <th>2</th>\n",
       "      <td>22732</td>\n",
       "      <td>90499</td>\n",
       "      <td>75</td>\n",
       "      <td>1</td>\n",
       "      <td>1</td>\n",
       "      <td>37</td>\n",
       "      <td>62454</td>\n",
       "      <td>9</td>\n",
       "      <td>6</td>\n",
       "      <td>1997</td>\n",
       "      <td>0</td>\n",
       "      <td>1</td>\n",
       "      <td>7454</td>\n",
       "      <td>2680</td>\n",
       "      <td>305</td>\n",
       "      <td>0</td>\n",
       "      <td>2</td>\n",
       "    </tr>\n",
       "    <tr>\n",
       "      <th>3</th>\n",
       "      <td>22733</td>\n",
       "      <td>16354</td>\n",
       "      <td>47</td>\n",
       "      <td>1</td>\n",
       "      <td>1</td>\n",
       "      <td>9</td>\n",
       "      <td>9262</td>\n",
       "      <td>6</td>\n",
       "      <td>5</td>\n",
       "      <td>2019</td>\n",
       "      <td>1</td>\n",
       "      <td>1</td>\n",
       "      <td>705</td>\n",
       "      <td>5097</td>\n",
       "      <td>122</td>\n",
       "      <td>1</td>\n",
       "      <td>5</td>\n",
       "    </tr>\n",
       "    <tr>\n",
       "      <th>4</th>\n",
       "      <td>22734</td>\n",
       "      <td>67510</td>\n",
       "      <td>8</td>\n",
       "      <td>0</td>\n",
       "      <td>0</td>\n",
       "      <td>55</td>\n",
       "      <td>24112</td>\n",
       "      <td>3</td>\n",
       "      <td>7</td>\n",
       "      <td>2014</td>\n",
       "      <td>1</td>\n",
       "      <td>1</td>\n",
       "      <td>3715</td>\n",
       "      <td>7979</td>\n",
       "      <td>401</td>\n",
       "      <td>1</td>\n",
       "      <td>9</td>\n",
       "    </tr>\n",
       "    <tr>\n",
       "      <th>...</th>\n",
       "      <td>...</td>\n",
       "      <td>...</td>\n",
       "      <td>...</td>\n",
       "      <td>...</td>\n",
       "      <td>...</td>\n",
       "      <td>...</td>\n",
       "      <td>...</td>\n",
       "      <td>...</td>\n",
       "      <td>...</td>\n",
       "      <td>...</td>\n",
       "      <td>...</td>\n",
       "      <td>...</td>\n",
       "      <td>...</td>\n",
       "      <td>...</td>\n",
       "      <td>...</td>\n",
       "      <td>...</td>\n",
       "      <td>...</td>\n",
       "    </tr>\n",
       "    <tr>\n",
       "      <th>15149</th>\n",
       "      <td>37879</td>\n",
       "      <td>86184</td>\n",
       "      <td>74</td>\n",
       "      <td>1</td>\n",
       "      <td>1</td>\n",
       "      <td>73</td>\n",
       "      <td>14009</td>\n",
       "      <td>2</td>\n",
       "      <td>10</td>\n",
       "      <td>1993</td>\n",
       "      <td>1</td>\n",
       "      <td>0</td>\n",
       "      <td>3714</td>\n",
       "      <td>3894</td>\n",
       "      <td>665</td>\n",
       "      <td>1</td>\n",
       "      <td>1</td>\n",
       "    </tr>\n",
       "    <tr>\n",
       "      <th>15150</th>\n",
       "      <td>37880</td>\n",
       "      <td>45885</td>\n",
       "      <td>41</td>\n",
       "      <td>1</td>\n",
       "      <td>1</td>\n",
       "      <td>64</td>\n",
       "      <td>84208</td>\n",
       "      <td>4</td>\n",
       "      <td>5</td>\n",
       "      <td>2008</td>\n",
       "      <td>0</td>\n",
       "      <td>0</td>\n",
       "      <td>783</td>\n",
       "      <td>7628</td>\n",
       "      <td>976</td>\n",
       "      <td>0</td>\n",
       "      <td>0</td>\n",
       "    </tr>\n",
       "    <tr>\n",
       "      <th>15151</th>\n",
       "      <td>37881</td>\n",
       "      <td>73554</td>\n",
       "      <td>51</td>\n",
       "      <td>0</td>\n",
       "      <td>0</td>\n",
       "      <td>41</td>\n",
       "      <td>49263</td>\n",
       "      <td>10</td>\n",
       "      <td>5</td>\n",
       "      <td>2004</td>\n",
       "      <td>0</td>\n",
       "      <td>1</td>\n",
       "      <td>8207</td>\n",
       "      <td>1777</td>\n",
       "      <td>775</td>\n",
       "      <td>0</td>\n",
       "      <td>10</td>\n",
       "    </tr>\n",
       "    <tr>\n",
       "      <th>15152</th>\n",
       "      <td>37882</td>\n",
       "      <td>77604</td>\n",
       "      <td>51</td>\n",
       "      <td>0</td>\n",
       "      <td>1</td>\n",
       "      <td>33</td>\n",
       "      <td>67056</td>\n",
       "      <td>4</td>\n",
       "      <td>3</td>\n",
       "      <td>2019</td>\n",
       "      <td>0</td>\n",
       "      <td>0</td>\n",
       "      <td>9578</td>\n",
       "      <td>9706</td>\n",
       "      <td>135</td>\n",
       "      <td>0</td>\n",
       "      <td>2</td>\n",
       "    </tr>\n",
       "    <tr>\n",
       "      <th>15153</th>\n",
       "      <td>37883</td>\n",
       "      <td>18179</td>\n",
       "      <td>50</td>\n",
       "      <td>1</td>\n",
       "      <td>0</td>\n",
       "      <td>41</td>\n",
       "      <td>50124</td>\n",
       "      <td>2</td>\n",
       "      <td>2</td>\n",
       "      <td>2004</td>\n",
       "      <td>1</td>\n",
       "      <td>0</td>\n",
       "      <td>4163</td>\n",
       "      <td>9923</td>\n",
       "      <td>622</td>\n",
       "      <td>0</td>\n",
       "      <td>6</td>\n",
       "    </tr>\n",
       "  </tbody>\n",
       "</table>\n",
       "<p>15154 rows × 17 columns</p>\n",
       "</div>"
      ],
      "text/plain": [
       "          id  squareMeters  numberOfRooms  hasYard  hasPool  floors  cityCode  \\\n",
       "0      22730         47580             89        0        1       8     54830   \n",
       "1      22731         62083             38        0        0      87      8576   \n",
       "2      22732         90499             75        1        1      37     62454   \n",
       "3      22733         16354             47        1        1       9      9262   \n",
       "4      22734         67510              8        0        0      55     24112   \n",
       "...      ...           ...            ...      ...      ...     ...       ...   \n",
       "15149  37879         86184             74        1        1      73     14009   \n",
       "15150  37880         45885             41        1        1      64     84208   \n",
       "15151  37881         73554             51        0        0      41     49263   \n",
       "15152  37882         77604             51        0        1      33     67056   \n",
       "15153  37883         18179             50        1        0      41     50124   \n",
       "\n",
       "       cityPartRange  numPrevOwners  made  isNewBuilt  hasStormProtector  \\\n",
       "0                  5              3  1995           0                  0   \n",
       "1                 10              3  1994           1                  1   \n",
       "2                  9              6  1997           0                  1   \n",
       "3                  6              5  2019           1                  1   \n",
       "4                  3              7  2014           1                  1   \n",
       "...              ...            ...   ...         ...                ...   \n",
       "15149              2             10  1993           1                  0   \n",
       "15150              4              5  2008           0                  0   \n",
       "15151             10              5  2004           0                  1   \n",
       "15152              4              3  2019           0                  0   \n",
       "15153              2              2  2004           1                  0   \n",
       "\n",
       "       basement  attic  garage  hasStorageRoom  hasGuestRoom  \n",
       "0          6885   8181     241               0             8  \n",
       "1          4601   9237     393               1             4  \n",
       "2          7454   2680     305               0             2  \n",
       "3           705   5097     122               1             5  \n",
       "4          3715   7979     401               1             9  \n",
       "...         ...    ...     ...             ...           ...  \n",
       "15149      3714   3894     665               1             1  \n",
       "15150       783   7628     976               0             0  \n",
       "15151      8207   1777     775               0            10  \n",
       "15152      9578   9706     135               0             2  \n",
       "15153      4163   9923     622               0             6  \n",
       "\n",
       "[15154 rows x 17 columns]"
      ]
     },
     "execution_count": 44,
     "metadata": {},
     "output_type": "execute_result"
    }
   ],
   "source": [
    "test"
   ]
  },
  {
   "cell_type": "code",
   "execution_count": null,
   "id": "52e90d26",
   "metadata": {},
   "outputs": [],
   "source": []
  }
 ],
 "metadata": {
  "kernelspec": {
   "display_name": "Python 3 (ipykernel)",
   "language": "python",
   "name": "python3"
  },
  "language_info": {
   "codemirror_mode": {
    "name": "ipython",
    "version": 3
   },
   "file_extension": ".py",
   "mimetype": "text/x-python",
   "name": "python",
   "nbconvert_exporter": "python",
   "pygments_lexer": "ipython3",
   "version": "3.11.2"
  }
 },
 "nbformat": 4,
 "nbformat_minor": 5
}
